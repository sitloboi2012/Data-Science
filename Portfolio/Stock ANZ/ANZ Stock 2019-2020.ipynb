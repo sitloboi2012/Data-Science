{
 "cells": [
  {
   "cell_type": "code",
   "execution_count": 1,
   "metadata": {},
   "outputs": [],
   "source": [
    "import numpy as np\n",
    "import pandas as pd\n",
    "import matplotlib.pyplot as plt\n",
    "import sklearn\n",
    "import seaborn as sns"
   ]
  },
  {
   "cell_type": "code",
   "execution_count": 2,
   "metadata": {},
   "outputs": [],
   "source": [
    "data = pd.read_csv(\"ANZ.AX.csv\",sep=\",\")"
   ]
  },
  {
   "cell_type": "code",
   "execution_count": 3,
   "metadata": {},
   "outputs": [
    {
     "data": {
      "text/html": [
       "<div>\n",
       "<style scoped>\n",
       "    .dataframe tbody tr th:only-of-type {\n",
       "        vertical-align: middle;\n",
       "    }\n",
       "\n",
       "    .dataframe tbody tr th {\n",
       "        vertical-align: top;\n",
       "    }\n",
       "\n",
       "    .dataframe thead th {\n",
       "        text-align: right;\n",
       "    }\n",
       "</style>\n",
       "<table border=\"1\" class=\"dataframe\">\n",
       "  <thead>\n",
       "    <tr style=\"text-align: right;\">\n",
       "      <th></th>\n",
       "      <th>Date</th>\n",
       "      <th>Open</th>\n",
       "      <th>High</th>\n",
       "      <th>Low</th>\n",
       "      <th>Close</th>\n",
       "      <th>Adj Close</th>\n",
       "      <th>Volume</th>\n",
       "    </tr>\n",
       "  </thead>\n",
       "  <tbody>\n",
       "    <tr>\n",
       "      <th>0</th>\n",
       "      <td>2019-06-19</td>\n",
       "      <td>28.450001</td>\n",
       "      <td>28.719999</td>\n",
       "      <td>28.410000</td>\n",
       "      <td>28.670000</td>\n",
       "      <td>27.796247</td>\n",
       "      <td>4496837</td>\n",
       "    </tr>\n",
       "    <tr>\n",
       "      <th>1</th>\n",
       "      <td>2019-06-20</td>\n",
       "      <td>28.870001</td>\n",
       "      <td>28.950001</td>\n",
       "      <td>28.610001</td>\n",
       "      <td>28.879999</td>\n",
       "      <td>27.999846</td>\n",
       "      <td>7971328</td>\n",
       "    </tr>\n",
       "    <tr>\n",
       "      <th>2</th>\n",
       "      <td>2019-06-21</td>\n",
       "      <td>28.799999</td>\n",
       "      <td>28.850000</td>\n",
       "      <td>28.410000</td>\n",
       "      <td>28.540001</td>\n",
       "      <td>27.670210</td>\n",
       "      <td>8435965</td>\n",
       "    </tr>\n",
       "    <tr>\n",
       "      <th>3</th>\n",
       "      <td>2019-06-24</td>\n",
       "      <td>28.520000</td>\n",
       "      <td>28.719999</td>\n",
       "      <td>28.420000</td>\n",
       "      <td>28.680000</td>\n",
       "      <td>27.805943</td>\n",
       "      <td>2594749</td>\n",
       "    </tr>\n",
       "    <tr>\n",
       "      <th>4</th>\n",
       "      <td>2019-06-25</td>\n",
       "      <td>28.540001</td>\n",
       "      <td>28.690001</td>\n",
       "      <td>28.360001</td>\n",
       "      <td>28.450001</td>\n",
       "      <td>27.582952</td>\n",
       "      <td>5151976</td>\n",
       "    </tr>\n",
       "  </tbody>\n",
       "</table>\n",
       "</div>"
      ],
      "text/plain": [
       "         Date       Open       High        Low      Close  Adj Close   Volume\n",
       "0  2019-06-19  28.450001  28.719999  28.410000  28.670000  27.796247  4496837\n",
       "1  2019-06-20  28.870001  28.950001  28.610001  28.879999  27.999846  7971328\n",
       "2  2019-06-21  28.799999  28.850000  28.410000  28.540001  27.670210  8435965\n",
       "3  2019-06-24  28.520000  28.719999  28.420000  28.680000  27.805943  2594749\n",
       "4  2019-06-25  28.540001  28.690001  28.360001  28.450001  27.582952  5151976"
      ]
     },
     "execution_count": 3,
     "metadata": {},
     "output_type": "execute_result"
    }
   ],
   "source": [
    "data.head()"
   ]
  },
  {
   "cell_type": "code",
   "execution_count": 4,
   "metadata": {
    "scrolled": true
   },
   "outputs": [
    {
     "data": {
      "text/plain": [
       "<matplotlib.axes._subplots.AxesSubplot at 0x19ffa3055e0>"
      ]
     },
     "execution_count": 4,
     "metadata": {},
     "output_type": "execute_result"
    },
    {
     "data": {
      "image/png": "[encoded data removed]",
      "text/plain": [
       "<Figure size 432x288 with 1 Axes>"
      ]
     },
     "metadata": {
      "needs_background": "light"
     },
     "output_type": "display_data"
    }
   ],
   "source": [
    "#view the line graph to see the change\n",
    "sns.lineplot(x=\"Date\",y=\"Open\",data=data,marker=True)"
   ]
  },
  {
   "cell_type": "code",
   "execution_count": 5,
   "metadata": {},
   "outputs": [
    {
     "data": {
      "text/plain": [
       "0      [2019, 06, 19]\n",
       "1      [2019, 06, 20]\n",
       "2      [2019, 06, 21]\n",
       "3      [2019, 06, 24]\n",
       "4      [2019, 06, 25]\n",
       "            ...      \n",
       "251    [2020, 06, 15]\n",
       "252    [2020, 06, 16]\n",
       "253    [2020, 06, 17]\n",
       "254    [2020, 06, 18]\n",
       "255    [2020, 06, 19]\n",
       "Name: Date, Length: 256, dtype: object"
      ]
     },
     "execution_count": 5,
     "metadata": {},
     "output_type": "execute_result"
    }
   ],
   "source": [
    "#As we can see that ANZ from 19-06-2019 to 19-06-2020 has a big drop down due to Corona Virus\n",
    "#Let's split the data into 2 years and analyze them\n",
    "date = data[\"Date\"].str.split(\"-\")\n",
    "date"
   ]
  },
  {
   "cell_type": "code",
   "execution_count": 6,
   "metadata": {},
   "outputs": [],
   "source": [
    "data[\"Year\"] = date.str.get(0)"
   ]
  },
  {
   "cell_type": "code",
   "execution_count": 7,
   "metadata": {},
   "outputs": [],
   "source": [
    "data[\"Date\"] = date.str.get(2) + \"-\" + date.str.get(1)"
   ]
  },
  {
   "cell_type": "code",
   "execution_count": 8,
   "metadata": {},
   "outputs": [
    {
     "data": {
      "text/html": [
       "<div>\n",
       "<style scoped>\n",
       "    .dataframe tbody tr th:only-of-type {\n",
       "        vertical-align: middle;\n",
       "    }\n",
       "\n",
       "    .dataframe tbody tr th {\n",
       "        vertical-align: top;\n",
       "    }\n",
       "\n",
       "    .dataframe thead th {\n",
       "        text-align: right;\n",
       "    }\n",
       "</style>\n",
       "<table border=\"1\" class=\"dataframe\">\n",
       "  <thead>\n",
       "    <tr style=\"text-align: right;\">\n",
       "      <th></th>\n",
       "      <th>Date</th>\n",
       "      <th>Open</th>\n",
       "      <th>High</th>\n",
       "      <th>Low</th>\n",
       "      <th>Close</th>\n",
       "      <th>Adj Close</th>\n",
       "      <th>Volume</th>\n",
       "      <th>Year</th>\n",
       "    </tr>\n",
       "  </thead>\n",
       "  <tbody>\n",
       "    <tr>\n",
       "      <th>0</th>\n",
       "      <td>19-06</td>\n",
       "      <td>28.450001</td>\n",
       "      <td>28.719999</td>\n",
       "      <td>28.410000</td>\n",
       "      <td>28.670000</td>\n",
       "      <td>27.796247</td>\n",
       "      <td>4496837</td>\n",
       "      <td>2019</td>\n",
       "    </tr>\n",
       "    <tr>\n",
       "      <th>1</th>\n",
       "      <td>20-06</td>\n",
       "      <td>28.870001</td>\n",
       "      <td>28.950001</td>\n",
       "      <td>28.610001</td>\n",
       "      <td>28.879999</td>\n",
       "      <td>27.999846</td>\n",
       "      <td>7971328</td>\n",
       "      <td>2019</td>\n",
       "    </tr>\n",
       "    <tr>\n",
       "      <th>2</th>\n",
       "      <td>21-06</td>\n",
       "      <td>28.799999</td>\n",
       "      <td>28.850000</td>\n",
       "      <td>28.410000</td>\n",
       "      <td>28.540001</td>\n",
       "      <td>27.670210</td>\n",
       "      <td>8435965</td>\n",
       "      <td>2019</td>\n",
       "    </tr>\n",
       "    <tr>\n",
       "      <th>3</th>\n",
       "      <td>24-06</td>\n",
       "      <td>28.520000</td>\n",
       "      <td>28.719999</td>\n",
       "      <td>28.420000</td>\n",
       "      <td>28.680000</td>\n",
       "      <td>27.805943</td>\n",
       "      <td>2594749</td>\n",
       "      <td>2019</td>\n",
       "    </tr>\n",
       "    <tr>\n",
       "      <th>4</th>\n",
       "      <td>25-06</td>\n",
       "      <td>28.540001</td>\n",
       "      <td>28.690001</td>\n",
       "      <td>28.360001</td>\n",
       "      <td>28.450001</td>\n",
       "      <td>27.582952</td>\n",
       "      <td>5151976</td>\n",
       "      <td>2019</td>\n",
       "    </tr>\n",
       "  </tbody>\n",
       "</table>\n",
       "</div>"
      ],
      "text/plain": [
       "    Date       Open       High        Low      Close  Adj Close   Volume  Year\n",
       "0  19-06  28.450001  28.719999  28.410000  28.670000  27.796247  4496837  2019\n",
       "1  20-06  28.870001  28.950001  28.610001  28.879999  27.999846  7971328  2019\n",
       "2  21-06  28.799999  28.850000  28.410000  28.540001  27.670210  8435965  2019\n",
       "3  24-06  28.520000  28.719999  28.420000  28.680000  27.805943  2594749  2019\n",
       "4  25-06  28.540001  28.690001  28.360001  28.450001  27.582952  5151976  2019"
      ]
     },
     "execution_count": 8,
     "metadata": {},
     "output_type": "execute_result"
    }
   ],
   "source": [
    "data.head()"
   ]
  },
  {
   "cell_type": "code",
   "execution_count": 116,
   "metadata": {},
   "outputs": [],
   "source": [
    "year_2019 = data.loc[(data[\"Year\"] == \"2019\")]\n",
    "year_2019.to_csv(\"2019_dataset\")"
   ]
  },
  {
   "cell_type": "code",
   "execution_count": 44,
   "metadata": {},
   "outputs": [],
   "source": [
    "year_2020 = data.loc[(data[\"Year\"] == \"2020\")]\n",
    "year_2020.to_csv(\"2020_dataset\")"
   ]
  },
  {
   "cell_type": "code",
   "execution_count": 11,
   "metadata": {},
   "outputs": [
    {
     "data": {
      "text/html": [
       "<div>\n",
       "<style scoped>\n",
       "    .dataframe tbody tr th:only-of-type {\n",
       "        vertical-align: middle;\n",
       "    }\n",
       "\n",
       "    .dataframe tbody tr th {\n",
       "        vertical-align: top;\n",
       "    }\n",
       "\n",
       "    .dataframe thead th {\n",
       "        text-align: right;\n",
       "    }\n",
       "</style>\n",
       "<table border=\"1\" class=\"dataframe\">\n",
       "  <thead>\n",
       "    <tr style=\"text-align: right;\">\n",
       "      <th></th>\n",
       "      <th>Date</th>\n",
       "      <th>Open</th>\n",
       "      <th>High</th>\n",
       "      <th>Low</th>\n",
       "      <th>Close</th>\n",
       "      <th>Adj Close</th>\n",
       "      <th>Volume</th>\n",
       "      <th>Year</th>\n",
       "    </tr>\n",
       "  </thead>\n",
       "  <tbody>\n",
       "    <tr>\n",
       "      <th>138</th>\n",
       "      <td>02-01</td>\n",
       "      <td>24.440001</td>\n",
       "      <td>24.600000</td>\n",
       "      <td>24.420000</td>\n",
       "      <td>24.549999</td>\n",
       "      <td>24.549999</td>\n",
       "      <td>2804051</td>\n",
       "      <td>2020</td>\n",
       "    </tr>\n",
       "    <tr>\n",
       "      <th>139</th>\n",
       "      <td>03-01</td>\n",
       "      <td>24.709999</td>\n",
       "      <td>24.940001</td>\n",
       "      <td>24.690001</td>\n",
       "      <td>24.730000</td>\n",
       "      <td>24.730000</td>\n",
       "      <td>3403316</td>\n",
       "      <td>2020</td>\n",
       "    </tr>\n",
       "    <tr>\n",
       "      <th>140</th>\n",
       "      <td>06-01</td>\n",
       "      <td>24.600000</td>\n",
       "      <td>24.690001</td>\n",
       "      <td>24.410000</td>\n",
       "      <td>24.629999</td>\n",
       "      <td>24.629999</td>\n",
       "      <td>3567678</td>\n",
       "      <td>2020</td>\n",
       "    </tr>\n",
       "    <tr>\n",
       "      <th>141</th>\n",
       "      <td>07-01</td>\n",
       "      <td>24.799999</td>\n",
       "      <td>25.030001</td>\n",
       "      <td>24.770000</td>\n",
       "      <td>24.950001</td>\n",
       "      <td>24.950001</td>\n",
       "      <td>4023426</td>\n",
       "      <td>2020</td>\n",
       "    </tr>\n",
       "    <tr>\n",
       "      <th>142</th>\n",
       "      <td>08-01</td>\n",
       "      <td>24.950001</td>\n",
       "      <td>25.000000</td>\n",
       "      <td>24.570000</td>\n",
       "      <td>24.860001</td>\n",
       "      <td>24.860001</td>\n",
       "      <td>4999690</td>\n",
       "      <td>2020</td>\n",
       "    </tr>\n",
       "  </tbody>\n",
       "</table>\n",
       "</div>"
      ],
      "text/plain": [
       "      Date       Open       High        Low      Close  Adj Close   Volume  \\\n",
       "138  02-01  24.440001  24.600000  24.420000  24.549999  24.549999  2804051   \n",
       "139  03-01  24.709999  24.940001  24.690001  24.730000  24.730000  3403316   \n",
       "140  06-01  24.600000  24.690001  24.410000  24.629999  24.629999  3567678   \n",
       "141  07-01  24.799999  25.030001  24.770000  24.950001  24.950001  4023426   \n",
       "142  08-01  24.950001  25.000000  24.570000  24.860001  24.860001  4999690   \n",
       "\n",
       "     Year  \n",
       "138  2020  \n",
       "139  2020  \n",
       "140  2020  \n",
       "141  2020  \n",
       "142  2020  "
      ]
     },
     "execution_count": 11,
     "metadata": {},
     "output_type": "execute_result"
    }
   ],
   "source": [
    "year_2020.head()"
   ]
  },
  {
   "cell_type": "code",
   "execution_count": 12,
   "metadata": {},
   "outputs": [
    {
     "data": {
      "text/plain": [
       "<matplotlib.axes._subplots.AxesSubplot at 0x19ffc6278b0>"
      ]
     },
     "execution_count": 12,
     "metadata": {},
     "output_type": "execute_result"
    },
    {
     "data": {
      "image/png": "[encoded data removed]",
      "text/plain": [
       "<Figure size 432x288 with 1 Axes>"
      ]
     },
     "metadata": {
      "needs_background": "light"
     },
     "output_type": "display_data"
    }
   ],
   "source": [
    "sns.lineplot(x=\"Date\",y=\"Open\",data=year_2019,marker=True)"
   ]
  },
  {
   "cell_type": "code",
   "execution_count": 13,
   "metadata": {},
   "outputs": [
    {
     "data": {
      "text/plain": [
       "<matplotlib.axes._subplots.AxesSubplot at 0x19ffc7bdd90>"
      ]
     },
     "execution_count": 13,
     "metadata": {},
     "output_type": "execute_result"
    },
    {
     "data": {
      "image/png": "[encoded data removed]",
      "text/plain": [
       "<Figure size 432x288 with 1 Axes>"
      ]
     },
     "metadata": {
      "needs_background": "light"
     },
     "output_type": "display_data"
    }
   ],
   "source": [
    "sns.lineplot(x=\"Date\",y=\"Open\",data=year_2020,marker=True)"
   ]
  },
  {
   "cell_type": "code",
   "execution_count": 14,
   "metadata": {},
   "outputs": [],
   "source": [
    "#As we look closer to each year, we can see that at year 2019, the open price is around from 29 to not lower than 20\n",
    "#When 2020 is highest is 26 and lowest could be around lower than 14\n",
    "max_2019_open = year_2019.loc[year_2019['Open'].idxmax()]"
   ]
  },
  {
   "cell_type": "code",
   "execution_count": 15,
   "metadata": {},
   "outputs": [],
   "source": [
    "#Highest would 28.95$ 2019\n",
    "min_2019_open = year_2019.loc[year_2019['Open'].idxmin()]"
   ]
  },
  {
   "cell_type": "code",
   "execution_count": 16,
   "metadata": {},
   "outputs": [],
   "source": [
    "#And lowest is 24.09$ 2019\n",
    "#Lets look at year 2020\n",
    "min_2020_open = year_2020.loc[year_2020['Open'].idxmin()]"
   ]
  },
  {
   "cell_type": "code",
   "execution_count": 17,
   "metadata": {},
   "outputs": [],
   "source": [
    "#lowest is 14.21$ 2019\n",
    "#highest is  27.29$\n",
    "max_2020_open = year_2020.loc[year_2020['Open'].idxmax()]"
   ]
  },
  {
   "cell_type": "code",
   "execution_count": 18,
   "metadata": {},
   "outputs": [],
   "source": [
    "#let's calculate the different between highest and lowest value of daily from 2019 to 2020 to see the change\n",
    "data[\"High-Low Diff\"] = data[\"High\"] - data[\"Low\"]"
   ]
  },
  {
   "cell_type": "code",
   "execution_count": 19,
   "metadata": {},
   "outputs": [
    {
     "data": {
      "text/html": [
       "<div>\n",
       "<style scoped>\n",
       "    .dataframe tbody tr th:only-of-type {\n",
       "        vertical-align: middle;\n",
       "    }\n",
       "\n",
       "    .dataframe tbody tr th {\n",
       "        vertical-align: top;\n",
       "    }\n",
       "\n",
       "    .dataframe thead th {\n",
       "        text-align: right;\n",
       "    }\n",
       "</style>\n",
       "<table border=\"1\" class=\"dataframe\">\n",
       "  <thead>\n",
       "    <tr style=\"text-align: right;\">\n",
       "      <th></th>\n",
       "      <th>Date</th>\n",
       "      <th>Open</th>\n",
       "      <th>High</th>\n",
       "      <th>Low</th>\n",
       "      <th>Close</th>\n",
       "      <th>Adj Close</th>\n",
       "      <th>Volume</th>\n",
       "      <th>Year</th>\n",
       "      <th>High-Low Diff</th>\n",
       "    </tr>\n",
       "  </thead>\n",
       "  <tbody>\n",
       "    <tr>\n",
       "      <th>0</th>\n",
       "      <td>19-06</td>\n",
       "      <td>28.450001</td>\n",
       "      <td>28.719999</td>\n",
       "      <td>28.410000</td>\n",
       "      <td>28.670000</td>\n",
       "      <td>27.796247</td>\n",
       "      <td>4496837</td>\n",
       "      <td>2019</td>\n",
       "      <td>0.309999</td>\n",
       "    </tr>\n",
       "    <tr>\n",
       "      <th>1</th>\n",
       "      <td>20-06</td>\n",
       "      <td>28.870001</td>\n",
       "      <td>28.950001</td>\n",
       "      <td>28.610001</td>\n",
       "      <td>28.879999</td>\n",
       "      <td>27.999846</td>\n",
       "      <td>7971328</td>\n",
       "      <td>2019</td>\n",
       "      <td>0.340000</td>\n",
       "    </tr>\n",
       "    <tr>\n",
       "      <th>2</th>\n",
       "      <td>21-06</td>\n",
       "      <td>28.799999</td>\n",
       "      <td>28.850000</td>\n",
       "      <td>28.410000</td>\n",
       "      <td>28.540001</td>\n",
       "      <td>27.670210</td>\n",
       "      <td>8435965</td>\n",
       "      <td>2019</td>\n",
       "      <td>0.440000</td>\n",
       "    </tr>\n",
       "    <tr>\n",
       "      <th>3</th>\n",
       "      <td>24-06</td>\n",
       "      <td>28.520000</td>\n",
       "      <td>28.719999</td>\n",
       "      <td>28.420000</td>\n",
       "      <td>28.680000</td>\n",
       "      <td>27.805943</td>\n",
       "      <td>2594749</td>\n",
       "      <td>2019</td>\n",
       "      <td>0.299999</td>\n",
       "    </tr>\n",
       "    <tr>\n",
       "      <th>4</th>\n",
       "      <td>25-06</td>\n",
       "      <td>28.540001</td>\n",
       "      <td>28.690001</td>\n",
       "      <td>28.360001</td>\n",
       "      <td>28.450001</td>\n",
       "      <td>27.582952</td>\n",
       "      <td>5151976</td>\n",
       "      <td>2019</td>\n",
       "      <td>0.330000</td>\n",
       "    </tr>\n",
       "  </tbody>\n",
       "</table>\n",
       "</div>"
      ],
      "text/plain": [
       "    Date       Open       High        Low      Close  Adj Close   Volume  \\\n",
       "0  19-06  28.450001  28.719999  28.410000  28.670000  27.796247  4496837   \n",
       "1  20-06  28.870001  28.950001  28.610001  28.879999  27.999846  7971328   \n",
       "2  21-06  28.799999  28.850000  28.410000  28.540001  27.670210  8435965   \n",
       "3  24-06  28.520000  28.719999  28.420000  28.680000  27.805943  2594749   \n",
       "4  25-06  28.540001  28.690001  28.360001  28.450001  27.582952  5151976   \n",
       "\n",
       "   Year  High-Low Diff  \n",
       "0  2019       0.309999  \n",
       "1  2019       0.340000  \n",
       "2  2019       0.440000  \n",
       "3  2019       0.299999  \n",
       "4  2019       0.330000  "
      ]
     },
     "execution_count": 19,
     "metadata": {},
     "output_type": "execute_result"
    }
   ],
   "source": [
    "data.head()"
   ]
  },
  {
   "cell_type": "code",
   "execution_count": 20,
   "metadata": {},
   "outputs": [
    {
     "data": {
      "text/plain": [
       "<matplotlib.axes._subplots.AxesSubplot at 0x19ffc7c8280>"
      ]
     },
     "execution_count": 20,
     "metadata": {},
     "output_type": "execute_result"
    },
    {
     "data": {
      "image/png": "[encoded data removed]",
      "text/plain": [
       "<Figure size 432x288 with 1 Axes>"
      ]
     },
     "metadata": {
      "needs_background": "light"
     },
     "output_type": "display_data"
    }
   ],
   "source": [
    "sns.lineplot(x=\"Date\",y=\"High-Low Diff\",data=data,marker=True)"
   ]
  },
  {
   "cell_type": "code",
   "execution_count": 21,
   "metadata": {},
   "outputs": [
    {
     "data": {
      "text/plain": [
       "Date                13-03\n",
       "Open                 16.8\n",
       "High                   19\n",
       "Low                 16.07\n",
       "Close                18.8\n",
       "Adj Close            18.8\n",
       "Volume           31830455\n",
       "Year                 2020\n",
       "High-Low Diff        2.93\n",
       "Name: 188, dtype: object"
      ]
     },
     "execution_count": 21,
     "metadata": {},
     "output_type": "execute_result"
    }
   ],
   "source": [
    "data.loc[data['High-Low Diff'].idxmax()]"
   ]
  },
  {
   "cell_type": "code",
   "execution_count": 22,
   "metadata": {},
   "outputs": [],
   "source": [
    "#highest different is on 13/03/2020 when it high at 19 and lowest at 16 => 3$ \n",
    "data[\"Open-Close Diff\"] = data[\"Close\"] - data[\"Open\"]"
   ]
  },
  {
   "cell_type": "code",
   "execution_count": 23,
   "metadata": {},
   "outputs": [
    {
     "data": {
      "text/html": [
       "<div>\n",
       "<style scoped>\n",
       "    .dataframe tbody tr th:only-of-type {\n",
       "        vertical-align: middle;\n",
       "    }\n",
       "\n",
       "    .dataframe tbody tr th {\n",
       "        vertical-align: top;\n",
       "    }\n",
       "\n",
       "    .dataframe thead th {\n",
       "        text-align: right;\n",
       "    }\n",
       "</style>\n",
       "<table border=\"1\" class=\"dataframe\">\n",
       "  <thead>\n",
       "    <tr style=\"text-align: right;\">\n",
       "      <th></th>\n",
       "      <th>Date</th>\n",
       "      <th>Open</th>\n",
       "      <th>High</th>\n",
       "      <th>Low</th>\n",
       "      <th>Close</th>\n",
       "      <th>Adj Close</th>\n",
       "      <th>Volume</th>\n",
       "      <th>Year</th>\n",
       "      <th>High-Low Diff</th>\n",
       "      <th>Open-Close Diff</th>\n",
       "    </tr>\n",
       "  </thead>\n",
       "  <tbody>\n",
       "    <tr>\n",
       "      <th>0</th>\n",
       "      <td>19-06</td>\n",
       "      <td>28.450001</td>\n",
       "      <td>28.719999</td>\n",
       "      <td>28.410000</td>\n",
       "      <td>28.670000</td>\n",
       "      <td>27.796247</td>\n",
       "      <td>4496837</td>\n",
       "      <td>2019</td>\n",
       "      <td>0.309999</td>\n",
       "      <td>0.219999</td>\n",
       "    </tr>\n",
       "    <tr>\n",
       "      <th>1</th>\n",
       "      <td>20-06</td>\n",
       "      <td>28.870001</td>\n",
       "      <td>28.950001</td>\n",
       "      <td>28.610001</td>\n",
       "      <td>28.879999</td>\n",
       "      <td>27.999846</td>\n",
       "      <td>7971328</td>\n",
       "      <td>2019</td>\n",
       "      <td>0.340000</td>\n",
       "      <td>0.009998</td>\n",
       "    </tr>\n",
       "    <tr>\n",
       "      <th>2</th>\n",
       "      <td>21-06</td>\n",
       "      <td>28.799999</td>\n",
       "      <td>28.850000</td>\n",
       "      <td>28.410000</td>\n",
       "      <td>28.540001</td>\n",
       "      <td>27.670210</td>\n",
       "      <td>8435965</td>\n",
       "      <td>2019</td>\n",
       "      <td>0.440000</td>\n",
       "      <td>-0.259998</td>\n",
       "    </tr>\n",
       "    <tr>\n",
       "      <th>3</th>\n",
       "      <td>24-06</td>\n",
       "      <td>28.520000</td>\n",
       "      <td>28.719999</td>\n",
       "      <td>28.420000</td>\n",
       "      <td>28.680000</td>\n",
       "      <td>27.805943</td>\n",
       "      <td>2594749</td>\n",
       "      <td>2019</td>\n",
       "      <td>0.299999</td>\n",
       "      <td>0.160000</td>\n",
       "    </tr>\n",
       "    <tr>\n",
       "      <th>4</th>\n",
       "      <td>25-06</td>\n",
       "      <td>28.540001</td>\n",
       "      <td>28.690001</td>\n",
       "      <td>28.360001</td>\n",
       "      <td>28.450001</td>\n",
       "      <td>27.582952</td>\n",
       "      <td>5151976</td>\n",
       "      <td>2019</td>\n",
       "      <td>0.330000</td>\n",
       "      <td>-0.090000</td>\n",
       "    </tr>\n",
       "  </tbody>\n",
       "</table>\n",
       "</div>"
      ],
      "text/plain": [
       "    Date       Open       High        Low      Close  Adj Close   Volume  \\\n",
       "0  19-06  28.450001  28.719999  28.410000  28.670000  27.796247  4496837   \n",
       "1  20-06  28.870001  28.950001  28.610001  28.879999  27.999846  7971328   \n",
       "2  21-06  28.799999  28.850000  28.410000  28.540001  27.670210  8435965   \n",
       "3  24-06  28.520000  28.719999  28.420000  28.680000  27.805943  2594749   \n",
       "4  25-06  28.540001  28.690001  28.360001  28.450001  27.582952  5151976   \n",
       "\n",
       "   Year  High-Low Diff  Open-Close Diff  \n",
       "0  2019       0.309999         0.219999  \n",
       "1  2019       0.340000         0.009998  \n",
       "2  2019       0.440000        -0.259998  \n",
       "3  2019       0.299999         0.160000  \n",
       "4  2019       0.330000        -0.090000  "
      ]
     },
     "execution_count": 23,
     "metadata": {},
     "output_type": "execute_result"
    }
   ],
   "source": [
    "data.head()"
   ]
  },
  {
   "cell_type": "code",
   "execution_count": 24,
   "metadata": {},
   "outputs": [
    {
     "data": {
      "image/png": "[encoded data removed]",
      "text/plain": [
       "<Figure size 432x288 with 1 Axes>"
      ]
     },
     "metadata": {
      "needs_background": "light"
     },
     "output_type": "display_data"
    }
   ],
   "source": [
    "#As we collect the highest Diff => let see how is it affect the volume of buying it\n",
    "bar_data = (\"2019 Max\",\"2019 Min\",\"2020 Max\",\"2020 Min\")\n",
    "y_pos = np.arange(len(bar_data))\n",
    "performance = [max_2019_open[\"Open\"],min_2019_open[\"Open\"],max_2020_open[\"Open\"],min_2020_open[\"Open\"]]\n",
    "plt.bar(y_pos, performance, align='center', alpha=0.5)\n",
    "plt.xticks(y_pos, bar_data)\n",
    "plt.ylabel('Dollars $')\n",
    "plt.title('The Change of Max and Min in 2019 vs 2020')\n",
    "\n",
    "plt.show()\n"
   ]
  },
  {
   "cell_type": "code",
   "execution_count": 29,
   "metadata": {},
   "outputs": [
    {
     "data": {
      "text/html": [
       "<div>\n",
       "<style scoped>\n",
       "    .dataframe tbody tr th:only-of-type {\n",
       "        vertical-align: middle;\n",
       "    }\n",
       "\n",
       "    .dataframe tbody tr th {\n",
       "        vertical-align: top;\n",
       "    }\n",
       "\n",
       "    .dataframe thead th {\n",
       "        text-align: right;\n",
       "    }\n",
       "</style>\n",
       "<table border=\"1\" class=\"dataframe\">\n",
       "  <thead>\n",
       "    <tr style=\"text-align: right;\">\n",
       "      <th></th>\n",
       "      <th>Date</th>\n",
       "      <th>Open</th>\n",
       "      <th>High</th>\n",
       "      <th>Low</th>\n",
       "      <th>Close</th>\n",
       "      <th>Adj Close</th>\n",
       "      <th>Volume</th>\n",
       "    </tr>\n",
       "  </thead>\n",
       "  <tbody>\n",
       "    <tr>\n",
       "      <th>0</th>\n",
       "      <td>2018-06-19</td>\n",
       "      <td>27.280001</td>\n",
       "      <td>27.280001</td>\n",
       "      <td>26.860001</td>\n",
       "      <td>26.980000</td>\n",
       "      <td>24.647905</td>\n",
       "      <td>5977320</td>\n",
       "    </tr>\n",
       "    <tr>\n",
       "      <th>1</th>\n",
       "      <td>2018-06-20</td>\n",
       "      <td>27.230000</td>\n",
       "      <td>27.719999</td>\n",
       "      <td>27.090000</td>\n",
       "      <td>27.719999</td>\n",
       "      <td>25.323942</td>\n",
       "      <td>7834273</td>\n",
       "    </tr>\n",
       "    <tr>\n",
       "      <th>2</th>\n",
       "      <td>2018-06-21</td>\n",
       "      <td>28.020000</td>\n",
       "      <td>28.049999</td>\n",
       "      <td>27.610001</td>\n",
       "      <td>27.850000</td>\n",
       "      <td>25.442707</td>\n",
       "      <td>10838323</td>\n",
       "    </tr>\n",
       "    <tr>\n",
       "      <th>3</th>\n",
       "      <td>2018-06-22</td>\n",
       "      <td>28.000000</td>\n",
       "      <td>28.740000</td>\n",
       "      <td>27.889999</td>\n",
       "      <td>28.650000</td>\n",
       "      <td>26.173555</td>\n",
       "      <td>8755923</td>\n",
       "    </tr>\n",
       "    <tr>\n",
       "      <th>4</th>\n",
       "      <td>2018-06-25</td>\n",
       "      <td>28.820000</td>\n",
       "      <td>28.940001</td>\n",
       "      <td>28.250000</td>\n",
       "      <td>28.350000</td>\n",
       "      <td>25.899488</td>\n",
       "      <td>7395380</td>\n",
       "    </tr>\n",
       "    <tr>\n",
       "      <th>...</th>\n",
       "      <td>...</td>\n",
       "      <td>...</td>\n",
       "      <td>...</td>\n",
       "      <td>...</td>\n",
       "      <td>...</td>\n",
       "      <td>...</td>\n",
       "      <td>...</td>\n",
       "    </tr>\n",
       "    <tr>\n",
       "      <th>249</th>\n",
       "      <td>2019-06-13</td>\n",
       "      <td>28.389999</td>\n",
       "      <td>28.500000</td>\n",
       "      <td>28.290001</td>\n",
       "      <td>28.430000</td>\n",
       "      <td>27.563562</td>\n",
       "      <td>2815595</td>\n",
       "    </tr>\n",
       "    <tr>\n",
       "      <th>250</th>\n",
       "      <td>2019-06-14</td>\n",
       "      <td>28.350000</td>\n",
       "      <td>28.400000</td>\n",
       "      <td>28.059999</td>\n",
       "      <td>28.219999</td>\n",
       "      <td>27.359961</td>\n",
       "      <td>3248435</td>\n",
       "    </tr>\n",
       "    <tr>\n",
       "      <th>251</th>\n",
       "      <td>2019-06-17</td>\n",
       "      <td>28.200001</td>\n",
       "      <td>28.469999</td>\n",
       "      <td>28.020000</td>\n",
       "      <td>28.280001</td>\n",
       "      <td>27.418133</td>\n",
       "      <td>3979476</td>\n",
       "    </tr>\n",
       "    <tr>\n",
       "      <th>252</th>\n",
       "      <td>2019-06-18</td>\n",
       "      <td>28.110001</td>\n",
       "      <td>28.480000</td>\n",
       "      <td>28.049999</td>\n",
       "      <td>28.280001</td>\n",
       "      <td>27.418133</td>\n",
       "      <td>7740427</td>\n",
       "    </tr>\n",
       "    <tr>\n",
       "      <th>253</th>\n",
       "      <td>2019-06-19</td>\n",
       "      <td>28.450001</td>\n",
       "      <td>28.719999</td>\n",
       "      <td>28.410000</td>\n",
       "      <td>28.670000</td>\n",
       "      <td>27.796247</td>\n",
       "      <td>4496837</td>\n",
       "    </tr>\n",
       "  </tbody>\n",
       "</table>\n",
       "<p>254 rows × 7 columns</p>\n",
       "</div>"
      ],
      "text/plain": [
       "           Date       Open       High        Low      Close  Adj Close  \\\n",
       "0    2018-06-19  27.280001  27.280001  26.860001  26.980000  24.647905   \n",
       "1    2018-06-20  27.230000  27.719999  27.090000  27.719999  25.323942   \n",
       "2    2018-06-21  28.020000  28.049999  27.610001  27.850000  25.442707   \n",
       "3    2018-06-22  28.000000  28.740000  27.889999  28.650000  26.173555   \n",
       "4    2018-06-25  28.820000  28.940001  28.250000  28.350000  25.899488   \n",
       "..          ...        ...        ...        ...        ...        ...   \n",
       "249  2019-06-13  28.389999  28.500000  28.290001  28.430000  27.563562   \n",
       "250  2019-06-14  28.350000  28.400000  28.059999  28.219999  27.359961   \n",
       "251  2019-06-17  28.200001  28.469999  28.020000  28.280001  27.418133   \n",
       "252  2019-06-18  28.110001  28.480000  28.049999  28.280001  27.418133   \n",
       "253  2019-06-19  28.450001  28.719999  28.410000  28.670000  27.796247   \n",
       "\n",
       "       Volume  \n",
       "0     5977320  \n",
       "1     7834273  \n",
       "2    10838323  \n",
       "3     8755923  \n",
       "4     7395380  \n",
       "..        ...  \n",
       "249   2815595  \n",
       "250   3248435  \n",
       "251   3979476  \n",
       "252   7740427  \n",
       "253   4496837  \n",
       "\n",
       "[254 rows x 7 columns]"
      ]
     },
     "execution_count": 29,
     "metadata": {},
     "output_type": "execute_result"
    }
   ],
   "source": [
    "#from the data we can see that the change Max and Min in 2019 is higher than 2020\n",
    "data_2018 = pd.read_csv(\"ANZ.AX_2019_2019.csv\",sep=\",\")\n",
    "data_2018"
   ]
  },
  {
   "cell_type": "code",
   "execution_count": null,
   "metadata": {},
   "outputs": [],
   "source": [
    "#let use the currently data to predict the price of close\n",
    "#I will split the data into 2 set - 80% of 2019 to train and 20% 2019 to test\n",
    "#Then we will apply that on  2020"
   ]
  },
  {
   "cell_type": "code",
   "execution_count": 83,
   "metadata": {},
   "outputs": [
    {
     "data": {
      "text/html": [
       "<div>\n",
       "<style scoped>\n",
       "    .dataframe tbody tr th:only-of-type {\n",
       "        vertical-align: middle;\n",
       "    }\n",
       "\n",
       "    .dataframe tbody tr th {\n",
       "        vertical-align: top;\n",
       "    }\n",
       "\n",
       "    .dataframe thead th {\n",
       "        text-align: right;\n",
       "    }\n",
       "</style>\n",
       "<table border=\"1\" class=\"dataframe\">\n",
       "  <thead>\n",
       "    <tr style=\"text-align: right;\">\n",
       "      <th></th>\n",
       "      <th>Date</th>\n",
       "      <th>Open</th>\n",
       "      <th>High</th>\n",
       "      <th>Low</th>\n",
       "      <th>Close</th>\n",
       "      <th>Adj Close</th>\n",
       "      <th>Volume</th>\n",
       "      <th>Year</th>\n",
       "      <th>High-Low Diff</th>\n",
       "      <th>Open-Close Diff</th>\n",
       "    </tr>\n",
       "  </thead>\n",
       "  <tbody>\n",
       "    <tr>\n",
       "      <th>0</th>\n",
       "      <td>19-06</td>\n",
       "      <td>28.450001</td>\n",
       "      <td>28.719999</td>\n",
       "      <td>28.410000</td>\n",
       "      <td>28.670000</td>\n",
       "      <td>27.796247</td>\n",
       "      <td>4496837</td>\n",
       "      <td>2019</td>\n",
       "      <td>0.309999</td>\n",
       "      <td>0.219999</td>\n",
       "    </tr>\n",
       "    <tr>\n",
       "      <th>1</th>\n",
       "      <td>20-06</td>\n",
       "      <td>28.870001</td>\n",
       "      <td>28.950001</td>\n",
       "      <td>28.610001</td>\n",
       "      <td>28.879999</td>\n",
       "      <td>27.999846</td>\n",
       "      <td>7971328</td>\n",
       "      <td>2019</td>\n",
       "      <td>0.340000</td>\n",
       "      <td>0.009998</td>\n",
       "    </tr>\n",
       "    <tr>\n",
       "      <th>2</th>\n",
       "      <td>21-06</td>\n",
       "      <td>28.799999</td>\n",
       "      <td>28.850000</td>\n",
       "      <td>28.410000</td>\n",
       "      <td>28.540001</td>\n",
       "      <td>27.670210</td>\n",
       "      <td>8435965</td>\n",
       "      <td>2019</td>\n",
       "      <td>0.440000</td>\n",
       "      <td>-0.259998</td>\n",
       "    </tr>\n",
       "    <tr>\n",
       "      <th>3</th>\n",
       "      <td>24-06</td>\n",
       "      <td>28.520000</td>\n",
       "      <td>28.719999</td>\n",
       "      <td>28.420000</td>\n",
       "      <td>28.680000</td>\n",
       "      <td>27.805943</td>\n",
       "      <td>2594749</td>\n",
       "      <td>2019</td>\n",
       "      <td>0.299999</td>\n",
       "      <td>0.160000</td>\n",
       "    </tr>\n",
       "    <tr>\n",
       "      <th>4</th>\n",
       "      <td>25-06</td>\n",
       "      <td>28.540001</td>\n",
       "      <td>28.690001</td>\n",
       "      <td>28.360001</td>\n",
       "      <td>28.450001</td>\n",
       "      <td>27.582952</td>\n",
       "      <td>5151976</td>\n",
       "      <td>2019</td>\n",
       "      <td>0.330000</td>\n",
       "      <td>-0.090000</td>\n",
       "    </tr>\n",
       "    <tr>\n",
       "      <th>...</th>\n",
       "      <td>...</td>\n",
       "      <td>...</td>\n",
       "      <td>...</td>\n",
       "      <td>...</td>\n",
       "      <td>...</td>\n",
       "      <td>...</td>\n",
       "      <td>...</td>\n",
       "      <td>...</td>\n",
       "      <td>...</td>\n",
       "      <td>...</td>\n",
       "    </tr>\n",
       "    <tr>\n",
       "      <th>133</th>\n",
       "      <td>23-12</td>\n",
       "      <td>24.680000</td>\n",
       "      <td>24.840000</td>\n",
       "      <td>24.660000</td>\n",
       "      <td>24.730000</td>\n",
       "      <td>24.730000</td>\n",
       "      <td>2454478</td>\n",
       "      <td>2019</td>\n",
       "      <td>0.180000</td>\n",
       "      <td>0.050000</td>\n",
       "    </tr>\n",
       "    <tr>\n",
       "      <th>134</th>\n",
       "      <td>24-12</td>\n",
       "      <td>24.730000</td>\n",
       "      <td>24.785000</td>\n",
       "      <td>24.610001</td>\n",
       "      <td>24.730000</td>\n",
       "      <td>24.730000</td>\n",
       "      <td>1830617</td>\n",
       "      <td>2019</td>\n",
       "      <td>0.174999</td>\n",
       "      <td>0.000000</td>\n",
       "    </tr>\n",
       "    <tr>\n",
       "      <th>135</th>\n",
       "      <td>27-12</td>\n",
       "      <td>24.709999</td>\n",
       "      <td>24.820000</td>\n",
       "      <td>24.690001</td>\n",
       "      <td>24.780001</td>\n",
       "      <td>24.780001</td>\n",
       "      <td>2296788</td>\n",
       "      <td>2019</td>\n",
       "      <td>0.129999</td>\n",
       "      <td>0.070002</td>\n",
       "    </tr>\n",
       "    <tr>\n",
       "      <th>136</th>\n",
       "      <td>30-12</td>\n",
       "      <td>24.780001</td>\n",
       "      <td>24.860001</td>\n",
       "      <td>24.580000</td>\n",
       "      <td>24.799999</td>\n",
       "      <td>24.799999</td>\n",
       "      <td>1897980</td>\n",
       "      <td>2019</td>\n",
       "      <td>0.280001</td>\n",
       "      <td>0.019998</td>\n",
       "    </tr>\n",
       "    <tr>\n",
       "      <th>137</th>\n",
       "      <td>31-12</td>\n",
       "      <td>24.670000</td>\n",
       "      <td>24.750000</td>\n",
       "      <td>24.430000</td>\n",
       "      <td>24.629999</td>\n",
       "      <td>24.629999</td>\n",
       "      <td>3259787</td>\n",
       "      <td>2019</td>\n",
       "      <td>0.320000</td>\n",
       "      <td>-0.040001</td>\n",
       "    </tr>\n",
       "  </tbody>\n",
       "</table>\n",
       "<p>138 rows × 10 columns</p>\n",
       "</div>"
      ],
      "text/plain": [
       "      Date       Open       High        Low      Close  Adj Close   Volume  \\\n",
       "0    19-06  28.450001  28.719999  28.410000  28.670000  27.796247  4496837   \n",
       "1    20-06  28.870001  28.950001  28.610001  28.879999  27.999846  7971328   \n",
       "2    21-06  28.799999  28.850000  28.410000  28.540001  27.670210  8435965   \n",
       "3    24-06  28.520000  28.719999  28.420000  28.680000  27.805943  2594749   \n",
       "4    25-06  28.540001  28.690001  28.360001  28.450001  27.582952  5151976   \n",
       "..     ...        ...        ...        ...        ...        ...      ...   \n",
       "133  23-12  24.680000  24.840000  24.660000  24.730000  24.730000  2454478   \n",
       "134  24-12  24.730000  24.785000  24.610001  24.730000  24.730000  1830617   \n",
       "135  27-12  24.709999  24.820000  24.690001  24.780001  24.780001  2296788   \n",
       "136  30-12  24.780001  24.860001  24.580000  24.799999  24.799999  1897980   \n",
       "137  31-12  24.670000  24.750000  24.430000  24.629999  24.629999  3259787   \n",
       "\n",
       "     Year  High-Low Diff  Open-Close Diff  \n",
       "0    2019       0.309999         0.219999  \n",
       "1    2019       0.340000         0.009998  \n",
       "2    2019       0.440000        -0.259998  \n",
       "3    2019       0.299999         0.160000  \n",
       "4    2019       0.330000        -0.090000  \n",
       "..    ...            ...              ...  \n",
       "133  2019       0.180000         0.050000  \n",
       "134  2019       0.174999         0.000000  \n",
       "135  2019       0.129999         0.070002  \n",
       "136  2019       0.280001         0.019998  \n",
       "137  2019       0.320000        -0.040001  \n",
       "\n",
       "[138 rows x 10 columns]"
      ]
     },
     "execution_count": 83,
     "metadata": {},
     "output_type": "execute_result"
    }
   ],
   "source": [
    "data_2019 = year_2019\n",
    "data_2019"
   ]
  },
  {
   "cell_type": "code",
   "execution_count": 49,
   "metadata": {},
   "outputs": [],
   "source": [
    "from sklearn.model_selection import train_test_split"
   ]
  },
  {
   "cell_type": "code",
   "execution_count": 70,
   "metadata": {},
   "outputs": [],
   "source": [
    "from sklearn.linear_model import LinearRegression"
   ]
  },
  {
   "cell_type": "code",
   "execution_count": 54,
   "metadata": {},
   "outputs": [],
   "source": [
    "from sklearn.tree import DecisionTreeRegressor"
   ]
  },
  {
   "cell_type": "code",
   "execution_count": 58,
   "metadata": {},
   "outputs": [],
   "source": [
    "from sklearn.ensemble import RandomForestRegressor"
   ]
  },
  {
   "cell_type": "code",
   "execution_count": 113,
   "metadata": {},
   "outputs": [],
   "source": [
    "from sklearn.neighbors import KNeighborsClassifier"
   ]
  },
  {
   "cell_type": "code",
   "execution_count": 84,
   "metadata": {},
   "outputs": [],
   "source": [
    "from sklearn import preprocessing"
   ]
  },
  {
   "cell_type": "code",
   "execution_count": 86,
   "metadata": {},
   "outputs": [
    {
     "name": "stderr",
     "output_type": "stream",
     "text": [
      "<ipython-input-86-38e6e75b425b>:3: SettingWithCopyWarning: \n",
      "A value is trying to be set on a copy of a slice from a DataFrame.\n",
      "Try using .loc[row_indexer,col_indexer] = value instead\n",
      "\n",
      "See the caveats in the documentation: https://pandas.pydata.org/pandas-docs/stable/user_guide/indexing.html#returning-a-view-versus-a-copy\n",
      "  data_2019[\"Date\"] = le.fit_transform(data_2019[\"Date\"])\n"
     ]
    }
   ],
   "source": [
    "#We have some of the data is non-numerical => transform it\n",
    "le = preprocessing.LabelEncoder()\n",
    "data_2019[\"Date\"] = le.fit_transform(data_2019[\"Date\"])"
   ]
  },
  {
   "cell_type": "code",
   "execution_count": 88,
   "metadata": {},
   "outputs": [
    {
     "data": {
      "text/html": [
       "<div>\n",
       "<style scoped>\n",
       "    .dataframe tbody tr th:only-of-type {\n",
       "        vertical-align: middle;\n",
       "    }\n",
       "\n",
       "    .dataframe tbody tr th {\n",
       "        vertical-align: top;\n",
       "    }\n",
       "\n",
       "    .dataframe thead th {\n",
       "        text-align: right;\n",
       "    }\n",
       "</style>\n",
       "<table border=\"1\" class=\"dataframe\">\n",
       "  <thead>\n",
       "    <tr style=\"text-align: right;\">\n",
       "      <th></th>\n",
       "      <th>Date</th>\n",
       "      <th>Open</th>\n",
       "      <th>High</th>\n",
       "      <th>Low</th>\n",
       "      <th>Close</th>\n",
       "      <th>Adj Close</th>\n",
       "      <th>Volume</th>\n",
       "      <th>High-Low Diff</th>\n",
       "      <th>Open-Close Diff</th>\n",
       "    </tr>\n",
       "  </thead>\n",
       "  <tbody>\n",
       "    <tr>\n",
       "      <th>Date</th>\n",
       "      <td>1.000000</td>\n",
       "      <td>0.026273</td>\n",
       "      <td>0.019669</td>\n",
       "      <td>0.038208</td>\n",
       "      <td>0.035063</td>\n",
       "      <td>0.076058</td>\n",
       "      <td>-0.061693</td>\n",
       "      <td>-0.223179</td>\n",
       "      <td>0.067316</td>\n",
       "    </tr>\n",
       "    <tr>\n",
       "      <th>Open</th>\n",
       "      <td>0.026273</td>\n",
       "      <td>1.000000</td>\n",
       "      <td>0.996586</td>\n",
       "      <td>0.995694</td>\n",
       "      <td>0.991512</td>\n",
       "      <td>0.977946</td>\n",
       "      <td>-0.252374</td>\n",
       "      <td>0.129777</td>\n",
       "      <td>-0.069829</td>\n",
       "    </tr>\n",
       "    <tr>\n",
       "      <th>High</th>\n",
       "      <td>0.019669</td>\n",
       "      <td>0.996586</td>\n",
       "      <td>1.000000</td>\n",
       "      <td>0.996702</td>\n",
       "      <td>0.996038</td>\n",
       "      <td>0.981488</td>\n",
       "      <td>-0.250872</td>\n",
       "      <td>0.159453</td>\n",
       "      <td>-0.008896</td>\n",
       "    </tr>\n",
       "    <tr>\n",
       "      <th>Low</th>\n",
       "      <td>0.038208</td>\n",
       "      <td>0.995694</td>\n",
       "      <td>0.996702</td>\n",
       "      <td>1.000000</td>\n",
       "      <td>0.997187</td>\n",
       "      <td>0.982845</td>\n",
       "      <td>-0.276491</td>\n",
       "      <td>0.078817</td>\n",
       "      <td>0.006768</td>\n",
       "    </tr>\n",
       "    <tr>\n",
       "      <th>Close</th>\n",
       "      <td>0.035063</td>\n",
       "      <td>0.991512</td>\n",
       "      <td>0.996038</td>\n",
       "      <td>0.997187</td>\n",
       "      <td>1.000000</td>\n",
       "      <td>0.985490</td>\n",
       "      <td>-0.284139</td>\n",
       "      <td>0.104881</td>\n",
       "      <td>0.060459</td>\n",
       "    </tr>\n",
       "    <tr>\n",
       "      <th>Adj Close</th>\n",
       "      <td>0.076058</td>\n",
       "      <td>0.977946</td>\n",
       "      <td>0.981488</td>\n",
       "      <td>0.982845</td>\n",
       "      <td>0.985490</td>\n",
       "      <td>1.000000</td>\n",
       "      <td>-0.278345</td>\n",
       "      <td>0.100620</td>\n",
       "      <td>0.053284</td>\n",
       "    </tr>\n",
       "    <tr>\n",
       "      <th>Volume</th>\n",
       "      <td>-0.061693</td>\n",
       "      <td>-0.252374</td>\n",
       "      <td>-0.250872</td>\n",
       "      <td>-0.276491</td>\n",
       "      <td>-0.284139</td>\n",
       "      <td>-0.278345</td>\n",
       "      <td>1.000000</td>\n",
       "      <td>0.281731</td>\n",
       "      <td>-0.242539</td>\n",
       "    </tr>\n",
       "    <tr>\n",
       "      <th>High-Low Diff</th>\n",
       "      <td>-0.223179</td>\n",
       "      <td>0.129777</td>\n",
       "      <td>0.159453</td>\n",
       "      <td>0.078817</td>\n",
       "      <td>0.104881</td>\n",
       "      <td>0.100620</td>\n",
       "      <td>0.281731</td>\n",
       "      <td>1.000000</td>\n",
       "      <td>-0.191628</td>\n",
       "    </tr>\n",
       "    <tr>\n",
       "      <th>Open-Close Diff</th>\n",
       "      <td>0.067316</td>\n",
       "      <td>-0.069829</td>\n",
       "      <td>-0.008896</td>\n",
       "      <td>0.006768</td>\n",
       "      <td>0.060459</td>\n",
       "      <td>0.053284</td>\n",
       "      <td>-0.242539</td>\n",
       "      <td>-0.191628</td>\n",
       "      <td>1.000000</td>\n",
       "    </tr>\n",
       "  </tbody>\n",
       "</table>\n",
       "</div>"
      ],
      "text/plain": [
       "                     Date      Open      High       Low     Close  Adj Close  \\\n",
       "Date             1.000000  0.026273  0.019669  0.038208  0.035063   0.076058   \n",
       "Open             0.026273  1.000000  0.996586  0.995694  0.991512   0.977946   \n",
       "High             0.019669  0.996586  1.000000  0.996702  0.996038   0.981488   \n",
       "Low              0.038208  0.995694  0.996702  1.000000  0.997187   0.982845   \n",
       "Close            0.035063  0.991512  0.996038  0.997187  1.000000   0.985490   \n",
       "Adj Close        0.076058  0.977946  0.981488  0.982845  0.985490   1.000000   \n",
       "Volume          -0.061693 -0.252374 -0.250872 -0.276491 -0.284139  -0.278345   \n",
       "High-Low Diff   -0.223179  0.129777  0.159453  0.078817  0.104881   0.100620   \n",
       "Open-Close Diff  0.067316 -0.069829 -0.008896  0.006768  0.060459   0.053284   \n",
       "\n",
       "                   Volume  High-Low Diff  Open-Close Diff  \n",
       "Date            -0.061693      -0.223179         0.067316  \n",
       "Open            -0.252374       0.129777        -0.069829  \n",
       "High            -0.250872       0.159453        -0.008896  \n",
       "Low             -0.276491       0.078817         0.006768  \n",
       "Close           -0.284139       0.104881         0.060459  \n",
       "Adj Close       -0.278345       0.100620         0.053284  \n",
       "Volume           1.000000       0.281731        -0.242539  \n",
       "High-Low Diff    0.281731       1.000000        -0.191628  \n",
       "Open-Close Diff -0.242539      -0.191628         1.000000  "
      ]
     },
     "execution_count": 88,
     "metadata": {},
     "output_type": "execute_result"
    }
   ],
   "source": [
    "#Before we go deeper , because we are testing Adj Close so we need to test the correlation\n",
    "data_2019.corr(method ='pearson')"
   ]
  },
  {
   "cell_type": "code",
   "execution_count": 91,
   "metadata": {},
   "outputs": [],
   "source": [
    "x = data_2019.drop(data_2019[[\"Date\",\"Adj Close\",\"High-Low Diff\",\"Open-Close Diff\"]],axis=1)"
   ]
  },
  {
   "cell_type": "code",
   "execution_count": 93,
   "metadata": {},
   "outputs": [],
   "source": [
    "#Because Adj Close has the lowest corre with Volume, High-Low Diff, Open-Close Diff, Date => drop 4 column\n",
    "y = data_2019[\"Adj Close\"]"
   ]
  },
  {
   "cell_type": "code",
   "execution_count": 94,
   "metadata": {},
   "outputs": [],
   "source": [
    "x_train,x_test,y_train,y_test = train_test_split(x,y,random_state = 0, test_size = 0.2)"
   ]
  },
  {
   "cell_type": "code",
   "execution_count": 95,
   "metadata": {},
   "outputs": [
    {
     "name": "stdout",
     "output_type": "stream",
     "text": [
      "Coefficent: [ 1.19715440e-01 -2.05446463e-01 -1.17596174e-01  9.49489358e-01\n",
      "  4.03790004e-09  0.00000000e+00]\n"
     ]
    }
   ],
   "source": [
    "linear = LinearRegression()\n",
    "linear.fit(x_train,y_train)\n",
    "print(\"Coefficent:\",linear.coef_)"
   ]
  },
  {
   "cell_type": "code",
   "execution_count": 96,
   "metadata": {},
   "outputs": [
    {
     "name": "stdout",
     "output_type": "stream",
     "text": [
      "Intercept: 6.172935991187057\n"
     ]
    }
   ],
   "source": [
    "print(\"Intercept:\",linear.intercept_)"
   ]
  },
  {
   "cell_type": "code",
   "execution_count": 107,
   "metadata": {},
   "outputs": [],
   "source": [
    "acc_linear = linear.score(x_train,y_train)\n",
    "y_pred = linear.predict(x_test)"
   ]
  },
  {
   "cell_type": "code",
   "execution_count": 108,
   "metadata": {},
   "outputs": [
    {
     "name": "stdout",
     "output_type": "stream",
     "text": [
      "Accuracy Score: 0.9731760716525969\n"
     ]
    }
   ],
   "source": [
    "print(\"Accuracy Score:\",acc)"
   ]
  },
  {
   "cell_type": "code",
   "execution_count": 106,
   "metadata": {},
   "outputs": [
    {
     "name": "stdout",
     "output_type": "stream",
     "text": [
      "Predicted:  27.28766504635074\n",
      "Predicted:  27.009379239286847\n",
      "Predicted:  26.912974303233657\n",
      "Predicted:  24.83581692935299\n",
      "Predicted:  26.657736872561266\n",
      "Predicted:  25.856752916129736\n",
      "Predicted:  26.560495830600363\n",
      "Predicted:  27.43564212025606\n",
      "Predicted:  24.5181761958146\n",
      "Predicted:  26.53480775890516\n",
      "Predicted:  24.69657048039998\n",
      "Predicted:  27.06286786345766\n",
      "Predicted:  25.674299488313206\n",
      "Predicted:  27.107849600687054\n",
      "Predicted:  26.780726921311874\n",
      "Predicted:  24.75049853747136\n",
      "Predicted:  25.769023993754857\n",
      "Predicted:  26.598348264389756\n",
      "Predicted:  27.01334413075644\n",
      "Predicted:  25.808571827816813\n",
      "Predicted:  24.77222752419293\n",
      "Predicted:  26.671605410914484\n",
      "Predicted:  26.323056154731415\n",
      "Predicted:  24.98175654005019\n",
      "Predicted:  25.815601971316692\n",
      "Predicted:  26.151756549862924\n",
      "Predicted:  26.11466073249282\n",
      "Predicted:  27.199845039497156\n"
     ]
    }
   ],
   "source": [
    "for i in range(len(y_pred)):\n",
    "    print(\"Predicted: \",y_pred[i])"
   ]
  },
  {
   "cell_type": "code",
   "execution_count": null,
   "metadata": {},
   "outputs": [],
   "source": []
  },
  {
   "cell_type": "code",
   "execution_count": null,
   "metadata": {},
   "outputs": [],
   "source": []
  },
  {
   "cell_type": "code",
   "execution_count": null,
   "metadata": {},
   "outputs": [],
   "source": []
  },
  {
   "cell_type": "code",
   "execution_count": null,
   "metadata": {},
   "outputs": [],
   "source": []
  }
 ],
 "metadata": {
  "kernelspec": {
   "display_name": "Python 3.8.2 64-bit",
   "language": "python",
   "name": "python38264bit6d649384b838459287d4c399251fe2a8"
  },
  "language_info": {
   "codemirror_mode": {
    "name": "ipython",
    "version": 3
   },
   "file_extension": ".py",
   "mimetype": "text/x-python",
   "name": "python",
   "nbconvert_exporter": "python",
   "pygments_lexer": "ipython3",
   "version": "3.8.3"
  }
 },
 "nbformat": 4,
 "nbformat_minor": 4
}
