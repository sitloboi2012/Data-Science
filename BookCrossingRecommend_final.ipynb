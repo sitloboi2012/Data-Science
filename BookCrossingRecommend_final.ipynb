{
  "nbformat": 4,
  "nbformat_minor": 0,
  "metadata": {
    "colab": {
      "name": "BookCrossingRecommend_final.ipynb",
      "provenance": [],
      "collapsed_sections": []
    },
    "kernelspec": {
      "name": "python3",
      "display_name": "Python 3"
    }
  },
  "cells": [
    {
      "cell_type": "markdown",
      "metadata": {
        "id": "BNNbNpA3GZwm",
        "colab_type": "text"
      },
      "source": [
        "# ***Book Crossing Recommendation System Dataset*** "
      ]
    },
    {
      "cell_type": "markdown",
      "metadata": {
        "id": "OIrxbuijGqX-",
        "colab_type": "text"
      },
      "source": [
        "## **Import Library**"
      ]
    },
    {
      "cell_type": "code",
      "metadata": {
        "id": "9w0cC-ezGG-D",
        "colab_type": "code",
        "colab": {}
      },
      "source": [
        "import numpy as np\n",
        "import pandas as pd\n",
        "import matplotlib.pyplot as plt\n",
        "import seaborn as sns\n",
        "from google.colab import drive"
      ],
      "execution_count": 159,
      "outputs": []
    },
    {
      "cell_type": "code",
      "metadata": {
        "id": "uJNzDFrbGR10",
        "colab_type": "code",
        "colab": {}
      },
      "source": [
        "import sklearn \n",
        "from sklearn.neighbors import NearestNeighbors"
      ],
      "execution_count": 160,
      "outputs": []
    },
    {
      "cell_type": "markdown",
      "metadata": {
        "id": "5ifJ42c9Ho6g",
        "colab_type": "text"
      },
      "source": [
        "## **Data Collecting**"
      ]
    },
    {
      "cell_type": "code",
      "metadata": {
        "id": "N-TORIKuHoLh",
        "colab_type": "code",
        "colab": {}
      },
      "source": [
        "path = \"/content/drive/My Drive/Dataset/BookCrossing_Dataset\""
      ],
      "execution_count": 161,
      "outputs": []
    },
    {
      "cell_type": "code",
      "metadata": {
        "id": "3twk3cWZINQn",
        "colab_type": "code",
        "colab": {}
      },
      "source": [
        "book_data = pd.read_csv(path + \"/Books.csv\", sep=';', header=0)"
      ],
      "execution_count": 162,
      "outputs": []
    },
    {
      "cell_type": "code",
      "metadata": {
        "id": "CS0ubAivV6Et",
        "colab_type": "code",
        "colab": {
          "base_uri": "https://localhost:8080/",
          "height": 204
        },
        "outputId": "376e54cd-9fb0-46a6-aa12-8cf273975c68"
      },
      "source": [
        "book_data.head()"
      ],
      "execution_count": 163,
      "outputs": [
        {
          "output_type": "execute_result",
          "data": {
            "text/html": [
              "<div>\n",
              "<style scoped>\n",
              "    .dataframe tbody tr th:only-of-type {\n",
              "        vertical-align: middle;\n",
              "    }\n",
              "\n",
              "    .dataframe tbody tr th {\n",
              "        vertical-align: top;\n",
              "    }\n",
              "\n",
              "    .dataframe thead th {\n",
              "        text-align: right;\n",
              "    }\n",
              "</style>\n",
              "<table border=\"1\" class=\"dataframe\">\n",
              "  <thead>\n",
              "    <tr style=\"text-align: right;\">\n",
              "      <th></th>\n",
              "      <th>ISBN</th>\n",
              "      <th>Title</th>\n",
              "      <th>Author</th>\n",
              "      <th>Year</th>\n",
              "      <th>Publisher</th>\n",
              "    </tr>\n",
              "  </thead>\n",
              "  <tbody>\n",
              "    <tr>\n",
              "      <th>0</th>\n",
              "      <td>0195153448</td>\n",
              "      <td>Classical Mythology</td>\n",
              "      <td>Mark P. O. Morford</td>\n",
              "      <td>2002</td>\n",
              "      <td>Oxford University Press</td>\n",
              "    </tr>\n",
              "    <tr>\n",
              "      <th>1</th>\n",
              "      <td>0002005018</td>\n",
              "      <td>Clara Callan</td>\n",
              "      <td>Richard Bruce Wright</td>\n",
              "      <td>2001</td>\n",
              "      <td>HarperFlamingo Canada</td>\n",
              "    </tr>\n",
              "    <tr>\n",
              "      <th>2</th>\n",
              "      <td>0060973129</td>\n",
              "      <td>Decision in Normandy</td>\n",
              "      <td>Carlo D'Este</td>\n",
              "      <td>1991</td>\n",
              "      <td>HarperPerennial</td>\n",
              "    </tr>\n",
              "    <tr>\n",
              "      <th>3</th>\n",
              "      <td>0374157065</td>\n",
              "      <td>Flu: The Story of the Great Influenza Pandemic...</td>\n",
              "      <td>Gina Bari Kolata</td>\n",
              "      <td>1999</td>\n",
              "      <td>Farrar Straus Giroux</td>\n",
              "    </tr>\n",
              "    <tr>\n",
              "      <th>4</th>\n",
              "      <td>0393045218</td>\n",
              "      <td>The Mummies of Urumchi</td>\n",
              "      <td>E. J. W. Barber</td>\n",
              "      <td>1999</td>\n",
              "      <td>W. W. Norton &amp; Company</td>\n",
              "    </tr>\n",
              "  </tbody>\n",
              "</table>\n",
              "</div>"
            ],
            "text/plain": [
              "         ISBN  ...                Publisher\n",
              "0  0195153448  ...  Oxford University Press\n",
              "1  0002005018  ...    HarperFlamingo Canada\n",
              "2  0060973129  ...          HarperPerennial\n",
              "3  0374157065  ...     Farrar Straus Giroux\n",
              "4  0393045218  ...   W. W. Norton & Company\n",
              "\n",
              "[5 rows x 5 columns]"
            ]
          },
          "metadata": {
            "tags": []
          },
          "execution_count": 163
        }
      ]
    },
    {
      "cell_type": "code",
      "metadata": {
        "id": "FSt5KX9zIpvv",
        "colab_type": "code",
        "colab": {
          "base_uri": "https://localhost:8080/",
          "height": 204
        },
        "outputId": "aa5ecfc3-0ed8-4e31-df47-28ab6f8ad0fb"
      },
      "source": [
        "rating_data = pd.read_csv(path + \"/Ratings.csv\", sep=\";\", header=0)\n",
        "rating_data.head()"
      ],
      "execution_count": 164,
      "outputs": [
        {
          "output_type": "execute_result",
          "data": {
            "text/html": [
              "<div>\n",
              "<style scoped>\n",
              "    .dataframe tbody tr th:only-of-type {\n",
              "        vertical-align: middle;\n",
              "    }\n",
              "\n",
              "    .dataframe tbody tr th {\n",
              "        vertical-align: top;\n",
              "    }\n",
              "\n",
              "    .dataframe thead th {\n",
              "        text-align: right;\n",
              "    }\n",
              "</style>\n",
              "<table border=\"1\" class=\"dataframe\">\n",
              "  <thead>\n",
              "    <tr style=\"text-align: right;\">\n",
              "      <th></th>\n",
              "      <th>User-ID</th>\n",
              "      <th>ISBN</th>\n",
              "      <th>Rating</th>\n",
              "    </tr>\n",
              "  </thead>\n",
              "  <tbody>\n",
              "    <tr>\n",
              "      <th>0</th>\n",
              "      <td>276725</td>\n",
              "      <td>034545104X</td>\n",
              "      <td>0</td>\n",
              "    </tr>\n",
              "    <tr>\n",
              "      <th>1</th>\n",
              "      <td>276726</td>\n",
              "      <td>0155061224</td>\n",
              "      <td>5</td>\n",
              "    </tr>\n",
              "    <tr>\n",
              "      <th>2</th>\n",
              "      <td>276727</td>\n",
              "      <td>0446520802</td>\n",
              "      <td>0</td>\n",
              "    </tr>\n",
              "    <tr>\n",
              "      <th>3</th>\n",
              "      <td>276729</td>\n",
              "      <td>052165615X</td>\n",
              "      <td>3</td>\n",
              "    </tr>\n",
              "    <tr>\n",
              "      <th>4</th>\n",
              "      <td>276729</td>\n",
              "      <td>0521795028</td>\n",
              "      <td>6</td>\n",
              "    </tr>\n",
              "  </tbody>\n",
              "</table>\n",
              "</div>"
            ],
            "text/plain": [
              "   User-ID        ISBN  Rating\n",
              "0   276725  034545104X       0\n",
              "1   276726  0155061224       5\n",
              "2   276727  0446520802       0\n",
              "3   276729  052165615X       3\n",
              "4   276729  0521795028       6"
            ]
          },
          "metadata": {
            "tags": []
          },
          "execution_count": 164
        }
      ]
    },
    {
      "cell_type": "code",
      "metadata": {
        "id": "7tM7TJ0TIzCx",
        "colab_type": "code",
        "colab": {
          "base_uri": "https://localhost:8080/",
          "height": 238
        },
        "outputId": "8781762a-e2f1-49e4-f420-375ab3473fe1"
      },
      "source": [
        "user_data = pd.read_csv(path + \"/Users.csv\", sep=\";\", header=0)\n",
        "user_data.head()"
      ],
      "execution_count": 165,
      "outputs": [
        {
          "output_type": "stream",
          "text": [
            "/usr/local/lib/python3.6/dist-packages/IPython/core/interactiveshell.py:2718: DtypeWarning: Columns (0) have mixed types.Specify dtype option on import or set low_memory=False.\n",
            "  interactivity=interactivity, compiler=compiler, result=result)\n"
          ],
          "name": "stderr"
        },
        {
          "output_type": "execute_result",
          "data": {
            "text/html": [
              "<div>\n",
              "<style scoped>\n",
              "    .dataframe tbody tr th:only-of-type {\n",
              "        vertical-align: middle;\n",
              "    }\n",
              "\n",
              "    .dataframe tbody tr th {\n",
              "        vertical-align: top;\n",
              "    }\n",
              "\n",
              "    .dataframe thead th {\n",
              "        text-align: right;\n",
              "    }\n",
              "</style>\n",
              "<table border=\"1\" class=\"dataframe\">\n",
              "  <thead>\n",
              "    <tr style=\"text-align: right;\">\n",
              "      <th></th>\n",
              "      <th>User-ID</th>\n",
              "      <th>Age</th>\n",
              "    </tr>\n",
              "  </thead>\n",
              "  <tbody>\n",
              "    <tr>\n",
              "      <th>0</th>\n",
              "      <td>1</td>\n",
              "      <td>NaN</td>\n",
              "    </tr>\n",
              "    <tr>\n",
              "      <th>1</th>\n",
              "      <td>2</td>\n",
              "      <td>18</td>\n",
              "    </tr>\n",
              "    <tr>\n",
              "      <th>2</th>\n",
              "      <td>3</td>\n",
              "      <td>NaN</td>\n",
              "    </tr>\n",
              "    <tr>\n",
              "      <th>3</th>\n",
              "      <td>4</td>\n",
              "      <td>17</td>\n",
              "    </tr>\n",
              "    <tr>\n",
              "      <th>4</th>\n",
              "      <td>5</td>\n",
              "      <td>NaN</td>\n",
              "    </tr>\n",
              "  </tbody>\n",
              "</table>\n",
              "</div>"
            ],
            "text/plain": [
              "  User-ID  Age\n",
              "0       1  NaN\n",
              "1       2   18\n",
              "2       3  NaN\n",
              "3       4   17\n",
              "4       5  NaN"
            ]
          },
          "metadata": {
            "tags": []
          },
          "execution_count": 165
        }
      ]
    },
    {
      "cell_type": "markdown",
      "metadata": {
        "id": "oVmVcXDFJOEN",
        "colab_type": "text"
      },
      "source": [
        "## **Data Preprocessing**"
      ]
    },
    {
      "cell_type": "markdown",
      "metadata": {
        "id": "K27t1ahcJTD3",
        "colab_type": "text"
      },
      "source": [
        "### Book Data and Rating Data"
      ]
    },
    {
      "cell_type": "code",
      "metadata": {
        "id": "WNy2k6IRJNAn",
        "colab_type": "code",
        "colab": {
          "base_uri": "https://localhost:8080/",
          "height": 221
        },
        "outputId": "17f09bcf-e49c-47e4-9b24-2192a4fa4aec"
      },
      "source": [
        "book_data.info()"
      ],
      "execution_count": 166,
      "outputs": [
        {
          "output_type": "stream",
          "text": [
            "<class 'pandas.core.frame.DataFrame'>\n",
            "RangeIndex: 271379 entries, 0 to 271378\n",
            "Data columns (total 5 columns):\n",
            " #   Column     Non-Null Count   Dtype \n",
            "---  ------     --------------   ----- \n",
            " 0   ISBN       271379 non-null  object\n",
            " 1   Title      271379 non-null  object\n",
            " 2   Author     271378 non-null  object\n",
            " 3   Year       271379 non-null  int64 \n",
            " 4   Publisher  271377 non-null  object\n",
            "dtypes: int64(1), object(4)\n",
            "memory usage: 10.4+ MB\n"
          ],
          "name": "stdout"
        }
      ]
    },
    {
      "cell_type": "code",
      "metadata": {
        "id": "xneEHimuKfiz",
        "colab_type": "code",
        "colab": {
          "base_uri": "https://localhost:8080/",
          "height": 119
        },
        "outputId": "60db0298-9cfe-4ed9-f860-79a79e425d83"
      },
      "source": [
        "book_data.isnull().sum()"
      ],
      "execution_count": 167,
      "outputs": [
        {
          "output_type": "execute_result",
          "data": {
            "text/plain": [
              "ISBN         0\n",
              "Title        0\n",
              "Author       1\n",
              "Year         0\n",
              "Publisher    2\n",
              "dtype: int64"
            ]
          },
          "metadata": {
            "tags": []
          },
          "execution_count": 167
        }
      ]
    },
    {
      "cell_type": "code",
      "metadata": {
        "id": "n13JpAkoKkJA",
        "colab_type": "code",
        "colab": {
          "base_uri": "https://localhost:8080/",
          "height": 111
        },
        "outputId": "8c6add9b-6962-47d9-89af-0fcb552433e3"
      },
      "source": [
        "book_data.loc[book_data.Publisher.isnull(),:]"
      ],
      "execution_count": 168,
      "outputs": [
        {
          "output_type": "execute_result",
          "data": {
            "text/html": [
              "<div>\n",
              "<style scoped>\n",
              "    .dataframe tbody tr th:only-of-type {\n",
              "        vertical-align: middle;\n",
              "    }\n",
              "\n",
              "    .dataframe tbody tr th {\n",
              "        vertical-align: top;\n",
              "    }\n",
              "\n",
              "    .dataframe thead th {\n",
              "        text-align: right;\n",
              "    }\n",
              "</style>\n",
              "<table border=\"1\" class=\"dataframe\">\n",
              "  <thead>\n",
              "    <tr style=\"text-align: right;\">\n",
              "      <th></th>\n",
              "      <th>ISBN</th>\n",
              "      <th>Title</th>\n",
              "      <th>Author</th>\n",
              "      <th>Year</th>\n",
              "      <th>Publisher</th>\n",
              "    </tr>\n",
              "  </thead>\n",
              "  <tbody>\n",
              "    <tr>\n",
              "      <th>128896</th>\n",
              "      <td>193169656X</td>\n",
              "      <td>Tyrant Moon</td>\n",
              "      <td>Elaine Corvidae</td>\n",
              "      <td>2002</td>\n",
              "      <td>NaN</td>\n",
              "    </tr>\n",
              "    <tr>\n",
              "      <th>129043</th>\n",
              "      <td>1931696993</td>\n",
              "      <td>Finders Keepers</td>\n",
              "      <td>Linnea Sinclair</td>\n",
              "      <td>2001</td>\n",
              "      <td>NaN</td>\n",
              "    </tr>\n",
              "  </tbody>\n",
              "</table>\n",
              "</div>"
            ],
            "text/plain": [
              "              ISBN            Title           Author  Year Publisher\n",
              "128896  193169656X      Tyrant Moon  Elaine Corvidae  2002       NaN\n",
              "129043  1931696993  Finders Keepers  Linnea Sinclair  2001       NaN"
            ]
          },
          "metadata": {
            "tags": []
          },
          "execution_count": 168
        }
      ]
    },
    {
      "cell_type": "code",
      "metadata": {
        "id": "lvCeW2f4LIJm",
        "colab_type": "code",
        "colab": {}
      },
      "source": [
        "book_data[\"Publisher\"] = book_data[\"Publisher\"].fillna(\"Other\")"
      ],
      "execution_count": 169,
      "outputs": []
    },
    {
      "cell_type": "code",
      "metadata": {
        "id": "fvl599J1Lrfh",
        "colab_type": "code",
        "colab": {
          "base_uri": "https://localhost:8080/",
          "height": 80
        },
        "outputId": "65dd7d55-6171-4c64-8ba7-bf3d7d4f904e"
      },
      "source": [
        "book_data.loc[book_data.Author.isnull(),:]"
      ],
      "execution_count": 170,
      "outputs": [
        {
          "output_type": "execute_result",
          "data": {
            "text/html": [
              "<div>\n",
              "<style scoped>\n",
              "    .dataframe tbody tr th:only-of-type {\n",
              "        vertical-align: middle;\n",
              "    }\n",
              "\n",
              "    .dataframe tbody tr th {\n",
              "        vertical-align: top;\n",
              "    }\n",
              "\n",
              "    .dataframe thead th {\n",
              "        text-align: right;\n",
              "    }\n",
              "</style>\n",
              "<table border=\"1\" class=\"dataframe\">\n",
              "  <thead>\n",
              "    <tr style=\"text-align: right;\">\n",
              "      <th></th>\n",
              "      <th>ISBN</th>\n",
              "      <th>Title</th>\n",
              "      <th>Author</th>\n",
              "      <th>Year</th>\n",
              "      <th>Publisher</th>\n",
              "    </tr>\n",
              "  </thead>\n",
              "  <tbody>\n",
              "    <tr>\n",
              "      <th>187700</th>\n",
              "      <td>9627982032</td>\n",
              "      <td>The Credit Suisse Guide to Managing Your Perso...</td>\n",
              "      <td>NaN</td>\n",
              "      <td>1995</td>\n",
              "      <td>Edinburgh Financial Publishing</td>\n",
              "    </tr>\n",
              "  </tbody>\n",
              "</table>\n",
              "</div>"
            ],
            "text/plain": [
              "              ISBN  ...                       Publisher\n",
              "187700  9627982032  ...  Edinburgh Financial Publishing\n",
              "\n",
              "[1 rows x 5 columns]"
            ]
          },
          "metadata": {
            "tags": []
          },
          "execution_count": 170
        }
      ]
    },
    {
      "cell_type": "code",
      "metadata": {
        "id": "R4FsyRw2Lv60",
        "colab_type": "code",
        "colab": {}
      },
      "source": [
        "book_data[\"Author\"] = book_data[\"Author\"].fillna(\"Other\")"
      ],
      "execution_count": 171,
      "outputs": []
    },
    {
      "cell_type": "code",
      "metadata": {
        "id": "Q3M8T7yzJeQj",
        "colab_type": "code",
        "colab": {
          "base_uri": "https://localhost:8080/",
          "height": 173
        },
        "outputId": "bdf9e062-66fa-4d40-e780-b7dadceb0626"
      },
      "source": [
        "book_data.describe(include=np.object).T"
      ],
      "execution_count": 172,
      "outputs": [
        {
          "output_type": "execute_result",
          "data": {
            "text/html": [
              "<div>\n",
              "<style scoped>\n",
              "    .dataframe tbody tr th:only-of-type {\n",
              "        vertical-align: middle;\n",
              "    }\n",
              "\n",
              "    .dataframe tbody tr th {\n",
              "        vertical-align: top;\n",
              "    }\n",
              "\n",
              "    .dataframe thead th {\n",
              "        text-align: right;\n",
              "    }\n",
              "</style>\n",
              "<table border=\"1\" class=\"dataframe\">\n",
              "  <thead>\n",
              "    <tr style=\"text-align: right;\">\n",
              "      <th></th>\n",
              "      <th>count</th>\n",
              "      <th>unique</th>\n",
              "      <th>top</th>\n",
              "      <th>freq</th>\n",
              "    </tr>\n",
              "  </thead>\n",
              "  <tbody>\n",
              "    <tr>\n",
              "      <th>ISBN</th>\n",
              "      <td>271379</td>\n",
              "      <td>271378</td>\n",
              "      <td>0486404242</td>\n",
              "      <td>2</td>\n",
              "    </tr>\n",
              "    <tr>\n",
              "      <th>Title</th>\n",
              "      <td>271379</td>\n",
              "      <td>242154</td>\n",
              "      <td>Selected Poems</td>\n",
              "      <td>27</td>\n",
              "    </tr>\n",
              "    <tr>\n",
              "      <th>Author</th>\n",
              "      <td>271379</td>\n",
              "      <td>102031</td>\n",
              "      <td>Agatha Christie</td>\n",
              "      <td>632</td>\n",
              "    </tr>\n",
              "    <tr>\n",
              "      <th>Publisher</th>\n",
              "      <td>271379</td>\n",
              "      <td>16911</td>\n",
              "      <td>Harlequin</td>\n",
              "      <td>7536</td>\n",
              "    </tr>\n",
              "  </tbody>\n",
              "</table>\n",
              "</div>"
            ],
            "text/plain": [
              "            count  unique              top  freq\n",
              "ISBN       271379  271378       0486404242     2\n",
              "Title      271379  242154   Selected Poems    27\n",
              "Author     271379  102031  Agatha Christie   632\n",
              "Publisher  271379   16911        Harlequin  7536"
            ]
          },
          "metadata": {
            "tags": []
          },
          "execution_count": 172
        }
      ]
    },
    {
      "cell_type": "markdown",
      "metadata": {
        "id": "t4uA8N_mJ7av",
        "colab_type": "text"
      },
      "source": [
        "#### Merge Book Df and Rating Df with User Df\n"
      ]
    },
    {
      "cell_type": "code",
      "metadata": {
        "id": "93EYZ7LdKMxl",
        "colab_type": "code",
        "colab": {}
      },
      "source": [
        "group_user = rating_data.groupby(\"User-ID\")\n",
        "group_book = rating_data.groupby(\"ISBN\")\n",
        "\n",
        "mean_user_rating = group_user[\"Rating\"].mean()\n",
        "count_user_rating = group_user[\"Rating\"].count()\n",
        "\n",
        "mean_book_rating = group_book[\"Rating\"].mean()\n",
        "count_book_rating = group_book[\"Rating\"].count()\n",
        "\n",
        "mean_user_rating.name = \"Average_Rating\"\n",
        "count_user_rating.name = \"Count_Rating\"\n",
        "mean_book_rating.name = \"Average_Rating\"\n",
        "count_book_rating.name = \"Count_Rating\"\n"
      ],
      "execution_count": 173,
      "outputs": []
    },
    {
      "cell_type": "code",
      "metadata": {
        "id": "NTWFrXU2MgIP",
        "colab_type": "code",
        "colab": {
          "base_uri": "https://localhost:8080/",
          "height": 419
        },
        "outputId": "dadf21dc-1e5c-43b1-eb76-03e93f05d6d9"
      },
      "source": [
        "group_user.head()"
      ],
      "execution_count": 174,
      "outputs": [
        {
          "output_type": "execute_result",
          "data": {
            "text/html": [
              "<div>\n",
              "<style scoped>\n",
              "    .dataframe tbody tr th:only-of-type {\n",
              "        vertical-align: middle;\n",
              "    }\n",
              "\n",
              "    .dataframe tbody tr th {\n",
              "        vertical-align: top;\n",
              "    }\n",
              "\n",
              "    .dataframe thead th {\n",
              "        text-align: right;\n",
              "    }\n",
              "</style>\n",
              "<table border=\"1\" class=\"dataframe\">\n",
              "  <thead>\n",
              "    <tr style=\"text-align: right;\">\n",
              "      <th></th>\n",
              "      <th>User-ID</th>\n",
              "      <th>ISBN</th>\n",
              "      <th>Rating</th>\n",
              "    </tr>\n",
              "  </thead>\n",
              "  <tbody>\n",
              "    <tr>\n",
              "      <th>0</th>\n",
              "      <td>276725</td>\n",
              "      <td>034545104X</td>\n",
              "      <td>0</td>\n",
              "    </tr>\n",
              "    <tr>\n",
              "      <th>1</th>\n",
              "      <td>276726</td>\n",
              "      <td>0155061224</td>\n",
              "      <td>5</td>\n",
              "    </tr>\n",
              "    <tr>\n",
              "      <th>2</th>\n",
              "      <td>276727</td>\n",
              "      <td>0446520802</td>\n",
              "      <td>0</td>\n",
              "    </tr>\n",
              "    <tr>\n",
              "      <th>3</th>\n",
              "      <td>276729</td>\n",
              "      <td>052165615X</td>\n",
              "      <td>3</td>\n",
              "    </tr>\n",
              "    <tr>\n",
              "      <th>4</th>\n",
              "      <td>276729</td>\n",
              "      <td>0521795028</td>\n",
              "      <td>6</td>\n",
              "    </tr>\n",
              "    <tr>\n",
              "      <th>...</th>\n",
              "      <td>...</td>\n",
              "      <td>...</td>\n",
              "      <td>...</td>\n",
              "    </tr>\n",
              "    <tr>\n",
              "      <th>1149763</th>\n",
              "      <td>276704</td>\n",
              "      <td>0395404258</td>\n",
              "      <td>0</td>\n",
              "    </tr>\n",
              "    <tr>\n",
              "      <th>1149776</th>\n",
              "      <td>276706</td>\n",
              "      <td>0679447156</td>\n",
              "      <td>0</td>\n",
              "    </tr>\n",
              "    <tr>\n",
              "      <th>1149777</th>\n",
              "      <td>276709</td>\n",
              "      <td>0515107662</td>\n",
              "      <td>10</td>\n",
              "    </tr>\n",
              "    <tr>\n",
              "      <th>1149778</th>\n",
              "      <td>276721</td>\n",
              "      <td>0590442449</td>\n",
              "      <td>10</td>\n",
              "    </tr>\n",
              "    <tr>\n",
              "      <th>1149779</th>\n",
              "      <td>276723</td>\n",
              "      <td>05162443314</td>\n",
              "      <td>8</td>\n",
              "    </tr>\n",
              "  </tbody>\n",
              "</table>\n",
              "<p>234912 rows × 3 columns</p>\n",
              "</div>"
            ],
            "text/plain": [
              "         User-ID         ISBN  Rating\n",
              "0         276725   034545104X       0\n",
              "1         276726   0155061224       5\n",
              "2         276727   0446520802       0\n",
              "3         276729   052165615X       3\n",
              "4         276729   0521795028       6\n",
              "...          ...          ...     ...\n",
              "1149763   276704   0395404258       0\n",
              "1149776   276706   0679447156       0\n",
              "1149777   276709   0515107662      10\n",
              "1149778   276721   0590442449      10\n",
              "1149779   276723  05162443314       8\n",
              "\n",
              "[234912 rows x 3 columns]"
            ]
          },
          "metadata": {
            "tags": []
          },
          "execution_count": 174
        }
      ]
    },
    {
      "cell_type": "code",
      "metadata": {
        "id": "vK9jF06JMy5I",
        "colab_type": "code",
        "colab": {
          "base_uri": "https://localhost:8080/",
          "height": 419
        },
        "outputId": "d18c90dc-8c72-4218-887b-5f29c99629a6"
      },
      "source": [
        "group_book.head()"
      ],
      "execution_count": 175,
      "outputs": [
        {
          "output_type": "execute_result",
          "data": {
            "text/html": [
              "<div>\n",
              "<style scoped>\n",
              "    .dataframe tbody tr th:only-of-type {\n",
              "        vertical-align: middle;\n",
              "    }\n",
              "\n",
              "    .dataframe tbody tr th {\n",
              "        vertical-align: top;\n",
              "    }\n",
              "\n",
              "    .dataframe thead th {\n",
              "        text-align: right;\n",
              "    }\n",
              "</style>\n",
              "<table border=\"1\" class=\"dataframe\">\n",
              "  <thead>\n",
              "    <tr style=\"text-align: right;\">\n",
              "      <th></th>\n",
              "      <th>User-ID</th>\n",
              "      <th>ISBN</th>\n",
              "      <th>Rating</th>\n",
              "    </tr>\n",
              "  </thead>\n",
              "  <tbody>\n",
              "    <tr>\n",
              "      <th>0</th>\n",
              "      <td>276725</td>\n",
              "      <td>034545104X</td>\n",
              "      <td>0</td>\n",
              "    </tr>\n",
              "    <tr>\n",
              "      <th>1</th>\n",
              "      <td>276726</td>\n",
              "      <td>0155061224</td>\n",
              "      <td>5</td>\n",
              "    </tr>\n",
              "    <tr>\n",
              "      <th>2</th>\n",
              "      <td>276727</td>\n",
              "      <td>0446520802</td>\n",
              "      <td>0</td>\n",
              "    </tr>\n",
              "    <tr>\n",
              "      <th>3</th>\n",
              "      <td>276729</td>\n",
              "      <td>052165615X</td>\n",
              "      <td>3</td>\n",
              "    </tr>\n",
              "    <tr>\n",
              "      <th>4</th>\n",
              "      <td>276729</td>\n",
              "      <td>0521795028</td>\n",
              "      <td>6</td>\n",
              "    </tr>\n",
              "    <tr>\n",
              "      <th>...</th>\n",
              "      <td>...</td>\n",
              "      <td>...</td>\n",
              "      <td>...</td>\n",
              "    </tr>\n",
              "    <tr>\n",
              "      <th>1149770</th>\n",
              "      <td>276704</td>\n",
              "      <td>0679752714</td>\n",
              "      <td>0</td>\n",
              "    </tr>\n",
              "    <tr>\n",
              "      <th>1149773</th>\n",
              "      <td>276704</td>\n",
              "      <td>0806917695</td>\n",
              "      <td>5</td>\n",
              "    </tr>\n",
              "    <tr>\n",
              "      <th>1149774</th>\n",
              "      <td>276704</td>\n",
              "      <td>0876044011</td>\n",
              "      <td>0</td>\n",
              "    </tr>\n",
              "    <tr>\n",
              "      <th>1149775</th>\n",
              "      <td>276704</td>\n",
              "      <td>1563526298</td>\n",
              "      <td>9</td>\n",
              "    </tr>\n",
              "    <tr>\n",
              "      <th>1149779</th>\n",
              "      <td>276723</td>\n",
              "      <td>05162443314</td>\n",
              "      <td>8</td>\n",
              "    </tr>\n",
              "  </tbody>\n",
              "</table>\n",
              "<p>669550 rows × 3 columns</p>\n",
              "</div>"
            ],
            "text/plain": [
              "         User-ID         ISBN  Rating\n",
              "0         276725   034545104X       0\n",
              "1         276726   0155061224       5\n",
              "2         276727   0446520802       0\n",
              "3         276729   052165615X       3\n",
              "4         276729   0521795028       6\n",
              "...          ...          ...     ...\n",
              "1149770   276704   0679752714       0\n",
              "1149773   276704   0806917695       5\n",
              "1149774   276704   0876044011       0\n",
              "1149775   276704   1563526298       9\n",
              "1149779   276723  05162443314       8\n",
              "\n",
              "[669550 rows x 3 columns]"
            ]
          },
          "metadata": {
            "tags": []
          },
          "execution_count": 175
        }
      ]
    },
    {
      "cell_type": "markdown",
      "metadata": {
        "id": "oixC9eQfM7a4",
        "colab_type": "text"
      },
      "source": [
        "#### Join with original df\n"
      ]
    },
    {
      "cell_type": "code",
      "metadata": {
        "id": "YP8G6rCeM3qy",
        "colab_type": "code",
        "colab": {}
      },
      "source": [
        "user_data = user_data.merge(count_user_rating, on=\"User-ID\")\n",
        "user_data = user_data.merge(mean_user_rating, on=\"User-ID\")\n",
        "\n",
        "book_data = book_data.merge(count_book_rating, on=\"ISBN\")\n",
        "book_data = book_data.merge(mean_book_rating, on=\"ISBN\")"
      ],
      "execution_count": 176,
      "outputs": []
    },
    {
      "cell_type": "code",
      "metadata": {
        "id": "CZpugGe7OG6Y",
        "colab_type": "code",
        "colab": {
          "base_uri": "https://localhost:8080/",
          "height": 102
        },
        "outputId": "9364a8fe-29f8-46a1-b101-ee5fc0c98760"
      },
      "source": [
        "user_data.isnull().sum()"
      ],
      "execution_count": 177,
      "outputs": [
        {
          "output_type": "execute_result",
          "data": {
            "text/plain": [
              "User-ID               0\n",
              "Age               40518\n",
              "Count_Rating          0\n",
              "Average_Rating        0\n",
              "dtype: int64"
            ]
          },
          "metadata": {
            "tags": []
          },
          "execution_count": 177
        }
      ]
    },
    {
      "cell_type": "code",
      "metadata": {
        "id": "wxj9oclvOKuY",
        "colab_type": "code",
        "colab": {
          "base_uri": "https://localhost:8080/",
          "height": 153
        },
        "outputId": "e373947e-d740-4c22-f647-196193accebf"
      },
      "source": [
        "book_data.isnull().sum()"
      ],
      "execution_count": 178,
      "outputs": [
        {
          "output_type": "execute_result",
          "data": {
            "text/plain": [
              "ISBN              0\n",
              "Title             0\n",
              "Author            0\n",
              "Year              0\n",
              "Publisher         0\n",
              "Count_Rating      0\n",
              "Average_Rating    0\n",
              "dtype: int64"
            ]
          },
          "metadata": {
            "tags": []
          },
          "execution_count": 178
        }
      ]
    },
    {
      "cell_type": "code",
      "metadata": {
        "id": "woKTDXcuN_aj",
        "colab_type": "code",
        "colab": {}
      },
      "source": [
        "user_data[\"Count_Rating\"] = user_data[\"Count_Rating\"].astype(\"int8\")\n",
        "book_data[\"Count_Rating\"] = book_data[\"Count_Rating\"].astype(\"int8\")"
      ],
      "execution_count": 179,
      "outputs": []
    },
    {
      "cell_type": "markdown",
      "metadata": {
        "id": "A4vwhdbOOpTk",
        "colab_type": "text"
      },
      "source": [
        "### User Data"
      ]
    },
    {
      "cell_type": "code",
      "metadata": {
        "id": "NFwLGDYkOz7a",
        "colab_type": "code",
        "colab": {
          "base_uri": "https://localhost:8080/",
          "height": 102
        },
        "outputId": "b339b9e8-1ed1-4360-d047-cb3d8a7209b7"
      },
      "source": [
        "user_data.isnull().sum()"
      ],
      "execution_count": 180,
      "outputs": [
        {
          "output_type": "execute_result",
          "data": {
            "text/plain": [
              "User-ID               0\n",
              "Age               40518\n",
              "Count_Rating          0\n",
              "Average_Rating        0\n",
              "dtype: int64"
            ]
          },
          "metadata": {
            "tags": []
          },
          "execution_count": 180
        }
      ]
    },
    {
      "cell_type": "code",
      "metadata": {
        "id": "sqYsAW7yO-Tf",
        "colab_type": "code",
        "colab": {
          "base_uri": "https://localhost:8080/",
          "height": 34
        },
        "outputId": "432c4f33-10a9-4216-b7be-14729c8f043b"
      },
      "source": [
        "user_data[\"Age\"].count()\n",
        "#Around 18000 value is nonNaN for Age."
      ],
      "execution_count": 181,
      "outputs": [
        {
          "output_type": "execute_result",
          "data": {
            "text/plain": [
              "58535"
            ]
          },
          "metadata": {
            "tags": []
          },
          "execution_count": 181
        }
      ]
    },
    {
      "cell_type": "code",
      "metadata": {
        "id": "bW_Q-NwfPkwp",
        "colab_type": "code",
        "colab": {
          "base_uri": "https://localhost:8080/",
          "height": 336
        },
        "outputId": "76ac1f57-8dd4-4319-b4ec-bc020324aab9"
      },
      "source": [
        "fig = plt.figure()\n",
        "ax = fig.add_axes([0,0,1,1])\n",
        "x_tick = [\"NaN\",\"Non-NaN\", \"Total\"]\n",
        "value = [40518,(58535-40518),58535]\n",
        "ax.bar(x_tick, value)\n",
        "plt.show()"
      ],
      "execution_count": 182,
      "outputs": [
        {
          "output_type": "display_data",
          "data": {
            "image/png": "[encoded data removed]",
            "text/plain": [
              "<Figure size 432x288 with 1 Axes>"
            ]
          },
          "metadata": {
            "tags": [],
            "needs_background": "light"
          }
        }
      ]
    },
    {
      "cell_type": "code",
      "metadata": {
        "id": "n-XW20o4Q3IB",
        "colab_type": "code",
        "colab": {}
      },
      "source": [
        "user_data[\"Age\"] = user_data[\"Age\"].fillna(0)"
      ],
      "execution_count": 183,
      "outputs": []
    },
    {
      "cell_type": "markdown",
      "metadata": {
        "id": "HN6B4D1sRuZL",
        "colab_type": "text"
      },
      "source": [
        "### Rating Dataset"
      ]
    },
    {
      "cell_type": "code",
      "metadata": {
        "id": "KyO0Mw9eRwCk",
        "colab_type": "code",
        "colab": {
          "base_uri": "https://localhost:8080/",
          "height": 279
        },
        "outputId": "c7e4ead7-5328-4ef1-eb85-617f6bc3e49c"
      },
      "source": [
        "sns.countplot(data=rating_data[rating_data.Rating != 0], x=\"Rating\")\n",
        "plt.show()"
      ],
      "execution_count": 184,
      "outputs": [
        {
          "output_type": "display_data",
          "data": {
            "image/png": "[encoded data removed]",
            "text/plain": [
              "<Figure size 432x288 with 1 Axes>"
            ]
          },
          "metadata": {
            "tags": [],
            "needs_background": "light"
          }
        }
      ]
    },
    {
      "cell_type": "markdown",
      "metadata": {
        "id": "ucowEQS3SmAt",
        "colab_type": "text"
      },
      "source": [
        "## Basic Recommendation System"
      ]
    },
    {
      "cell_type": "code",
      "metadata": {
        "id": "wsHZV153SjX_",
        "colab_type": "code",
        "colab": {}
      },
      "source": [
        "rating_new = rating_data[rating_data.ISBN.isin(book_data.ISBN)]\n",
        "rating_new = rating_new[rating_new[\"User-ID\"].isin(user_data[\"User-ID\"])]"
      ],
      "execution_count": 185,
      "outputs": []
    },
    {
      "cell_type": "code",
      "metadata": {
        "id": "HStRUKeQTK1Z",
        "colab_type": "code",
        "colab": {}
      },
      "source": [
        "rating_without_0 = rating_new[rating_new.Rating != 0]\n",
        "rating_with_0 = rating_new[rating_new.Rating == 0]"
      ],
      "execution_count": 186,
      "outputs": []
    },
    {
      "cell_type": "code",
      "metadata": {
        "id": "KF8Z7EESTXfx",
        "colab_type": "code",
        "colab": {
          "base_uri": "https://localhost:8080/",
          "height": 221
        },
        "outputId": "db61a738-a3c4-4f1e-b1a1-535c8d36d5be"
      },
      "source": [
        "rating_count = pd.DataFrame(rating_without_0.groupby([\"ISBN\"])[\"Rating\"].sum())\n",
        "firstTop = rating_count.sort_values(\"Rating\", ascending=False).head()\n",
        "\n",
        "print(\"Recommend Book:\")\n",
        "firstTop.merge(book_data, left_index = True, right_on = \"ISBN\")"
      ],
      "execution_count": 187,
      "outputs": [
        {
          "output_type": "stream",
          "text": [
            "Recommend Book:\n"
          ],
          "name": "stdout"
        },
        {
          "output_type": "execute_result",
          "data": {
            "text/html": [
              "<div>\n",
              "<style scoped>\n",
              "    .dataframe tbody tr th:only-of-type {\n",
              "        vertical-align: middle;\n",
              "    }\n",
              "\n",
              "    .dataframe tbody tr th {\n",
              "        vertical-align: top;\n",
              "    }\n",
              "\n",
              "    .dataframe thead th {\n",
              "        text-align: right;\n",
              "    }\n",
              "</style>\n",
              "<table border=\"1\" class=\"dataframe\">\n",
              "  <thead>\n",
              "    <tr style=\"text-align: right;\">\n",
              "      <th></th>\n",
              "      <th>Rating</th>\n",
              "      <th>ISBN</th>\n",
              "      <th>Title</th>\n",
              "      <th>Author</th>\n",
              "      <th>Year</th>\n",
              "      <th>Publisher</th>\n",
              "      <th>Count_Rating</th>\n",
              "      <th>Average_Rating</th>\n",
              "    </tr>\n",
              "  </thead>\n",
              "  <tbody>\n",
              "    <tr>\n",
              "      <th>408</th>\n",
              "      <td>5423</td>\n",
              "      <td>0316666343</td>\n",
              "      <td>The Lovely Bones: A Novel</td>\n",
              "      <td>Alice Sebold</td>\n",
              "      <td>2002</td>\n",
              "      <td>Little, Brown</td>\n",
              "      <td>15</td>\n",
              "      <td>4.468726</td>\n",
              "    </tr>\n",
              "    <tr>\n",
              "      <th>748</th>\n",
              "      <td>3908</td>\n",
              "      <td>0385504209</td>\n",
              "      <td>The Da Vinci Code</td>\n",
              "      <td>Dan Brown</td>\n",
              "      <td>2003</td>\n",
              "      <td>Doubleday</td>\n",
              "      <td>115</td>\n",
              "      <td>4.652322</td>\n",
              "    </tr>\n",
              "    <tr>\n",
              "      <th>522</th>\n",
              "      <td>2925</td>\n",
              "      <td>0312195516</td>\n",
              "      <td>The Red Tent (Bestselling Backlist)</td>\n",
              "      <td>Anita Diamant</td>\n",
              "      <td>1998</td>\n",
              "      <td>Picador USA</td>\n",
              "      <td>-45</td>\n",
              "      <td>4.334716</td>\n",
              "    </tr>\n",
              "    <tr>\n",
              "      <th>2139</th>\n",
              "      <td>2639</td>\n",
              "      <td>059035342X</td>\n",
              "      <td>Harry Potter and the Sorcerer's Stone (Harry P...</td>\n",
              "      <td>J. K. Rowling</td>\n",
              "      <td>1999</td>\n",
              "      <td>Arthur A. Levine Books</td>\n",
              "      <td>59</td>\n",
              "      <td>4.900175</td>\n",
              "    </tr>\n",
              "    <tr>\n",
              "      <th>356</th>\n",
              "      <td>2482</td>\n",
              "      <td>0142001740</td>\n",
              "      <td>The Secret Life of Bees</td>\n",
              "      <td>Sue Monk Kidd</td>\n",
              "      <td>2003</td>\n",
              "      <td>Penguin Books</td>\n",
              "      <td>103</td>\n",
              "      <td>4.219512</td>\n",
              "    </tr>\n",
              "  </tbody>\n",
              "</table>\n",
              "</div>"
            ],
            "text/plain": [
              "      Rating        ISBN  ... Count_Rating Average_Rating\n",
              "408     5423  0316666343  ...           15       4.468726\n",
              "748     3908  0385504209  ...          115       4.652322\n",
              "522     2925  0312195516  ...          -45       4.334716\n",
              "2139    2639  059035342X  ...           59       4.900175\n",
              "356     2482  0142001740  ...          103       4.219512\n",
              "\n",
              "[5 rows x 8 columns]"
            ]
          },
          "metadata": {
            "tags": []
          },
          "execution_count": 187
        }
      ]
    },
    {
      "cell_type": "markdown",
      "metadata": {
        "id": "I63PRVIQUeQj",
        "colab_type": "text"
      },
      "source": [
        "## Recommend Similar Book - Content Base Filtering "
      ]
    },
    {
      "cell_type": "code",
      "metadata": {
        "id": "BeYqwzgEadbe",
        "colab_type": "code",
        "colab": {}
      },
      "source": [
        "rating_data[\"Rating\"] = rating_data[\"Rating\"].astype(\"int8\")"
      ],
      "execution_count": 188,
      "outputs": []
    },
    {
      "cell_type": "code",
      "metadata": {
        "id": "KMow1fO_arBu",
        "colab_type": "code",
        "colab": {}
      },
      "source": [
        "matrix_df = pd.merge(book_data.loc[book_data[\"Count_Rating\"] > 20, \"ISBN\"], rating_data, how=\"left\", left_on=\"ISBN\", right_on=\"ISBN\").drop_duplicates()"
      ],
      "execution_count": 189,
      "outputs": []
    },
    {
      "cell_type": "code",
      "metadata": {
        "id": "ebVPbOx0a1N3",
        "colab_type": "code",
        "colab": {
          "base_uri": "https://localhost:8080/",
          "height": 204
        },
        "outputId": "cdc27348-d3b9-4534-8906-e49a5711bd5b"
      },
      "source": [
        "matrix_df.head()"
      ],
      "execution_count": 190,
      "outputs": [
        {
          "output_type": "execute_result",
          "data": {
            "text/html": [
              "<div>\n",
              "<style scoped>\n",
              "    .dataframe tbody tr th:only-of-type {\n",
              "        vertical-align: middle;\n",
              "    }\n",
              "\n",
              "    .dataframe tbody tr th {\n",
              "        vertical-align: top;\n",
              "    }\n",
              "\n",
              "    .dataframe thead th {\n",
              "        text-align: right;\n",
              "    }\n",
              "</style>\n",
              "<table border=\"1\" class=\"dataframe\">\n",
              "  <thead>\n",
              "    <tr style=\"text-align: right;\">\n",
              "      <th></th>\n",
              "      <th>ISBN</th>\n",
              "      <th>User-ID</th>\n",
              "      <th>Rating</th>\n",
              "    </tr>\n",
              "  </thead>\n",
              "  <tbody>\n",
              "    <tr>\n",
              "      <th>0</th>\n",
              "      <td>0399135782</td>\n",
              "      <td>8</td>\n",
              "      <td>0</td>\n",
              "    </tr>\n",
              "    <tr>\n",
              "      <th>1</th>\n",
              "      <td>0399135782</td>\n",
              "      <td>11676</td>\n",
              "      <td>9</td>\n",
              "    </tr>\n",
              "    <tr>\n",
              "      <th>2</th>\n",
              "      <td>0399135782</td>\n",
              "      <td>29526</td>\n",
              "      <td>9</td>\n",
              "    </tr>\n",
              "    <tr>\n",
              "      <th>3</th>\n",
              "      <td>0399135782</td>\n",
              "      <td>36836</td>\n",
              "      <td>0</td>\n",
              "    </tr>\n",
              "    <tr>\n",
              "      <th>4</th>\n",
              "      <td>0399135782</td>\n",
              "      <td>46398</td>\n",
              "      <td>9</td>\n",
              "    </tr>\n",
              "  </tbody>\n",
              "</table>\n",
              "</div>"
            ],
            "text/plain": [
              "         ISBN  User-ID  Rating\n",
              "0  0399135782        8       0\n",
              "1  0399135782    11676       9\n",
              "2  0399135782    29526       9\n",
              "3  0399135782    36836       0\n",
              "4  0399135782    46398       9"
            ]
          },
          "metadata": {
            "tags": []
          },
          "execution_count": 190
        }
      ]
    },
    {
      "cell_type": "code",
      "metadata": {
        "id": "CnoxB4w6a4wV",
        "colab_type": "code",
        "colab": {}
      },
      "source": [
        "matrix_df_pivot = matrix_df.pivot_table(index=\"ISBN\", columns=\"User-ID\", values=\"Rating\").fillna(0).astype(\"int8\")"
      ],
      "execution_count": 191,
      "outputs": []
    },
    {
      "cell_type": "code",
      "metadata": {
        "id": "DVDsZM0qbImW",
        "colab_type": "code",
        "colab": {}
      },
      "source": [
        "import scipy\n",
        "from scipy.sparse import csr_matrix"
      ],
      "execution_count": 192,
      "outputs": []
    },
    {
      "cell_type": "code",
      "metadata": {
        "id": "Ws1nPZyeba3U",
        "colab_type": "code",
        "colab": {}
      },
      "source": [
        "matrix_csr = csr_matrix(matrix_df_pivot.values)"
      ],
      "execution_count": 193,
      "outputs": []
    },
    {
      "cell_type": "code",
      "metadata": {
        "id": "BqRWuDmRbhC7",
        "colab_type": "code",
        "colab": {
          "base_uri": "https://localhost:8080/",
          "height": 68
        },
        "outputId": "f7f3b020-ebfc-4b06-dc7e-b4bcb3eaef46"
      },
      "source": [
        "model = NearestNeighbors(metric=\"cosine\", n_neighbors=11, n_jobs=-1)\n",
        "model.fit(matrix_csr)"
      ],
      "execution_count": 194,
      "outputs": [
        {
          "output_type": "execute_result",
          "data": {
            "text/plain": [
              "NearestNeighbors(algorithm='auto', leaf_size=30, metric='cosine',\n",
              "                 metric_params=None, n_jobs=-1, n_neighbors=11, p=2,\n",
              "                 radius=1.0)"
            ]
          },
          "metadata": {
            "tags": []
          },
          "execution_count": 194
        }
      ]
    },
    {
      "cell_type": "code",
      "metadata": {
        "id": "QZyOfOg-bqzU",
        "colab_type": "code",
        "colab": {}
      },
      "source": [
        "distance, indices = model.kneighbors(matrix_csr)"
      ],
      "execution_count": 195,
      "outputs": []
    },
    {
      "cell_type": "code",
      "metadata": {
        "id": "kOnsPHjtbwuL",
        "colab_type": "code",
        "colab": {
          "base_uri": "https://localhost:8080/",
          "height": 34
        },
        "outputId": "f9906e9e-e30c-4b99-8e87-465c08574b00"
      },
      "source": [
        "#Using a random book to check\n",
        "print(\"Random book index: \", np.where(matrix_df_pivot.index == \"0399135782\")[0][0])"
      ],
      "execution_count": 196,
      "outputs": [
        {
          "output_type": "stream",
          "text": [
            "Random book index:  2148\n"
          ],
          "name": "stdout"
        }
      ]
    },
    {
      "cell_type": "code",
      "metadata": {
        "id": "KywIBfD2cYou",
        "colab_type": "code",
        "colab": {}
      },
      "source": [
        "select_index = 2148"
      ],
      "execution_count": 197,
      "outputs": []
    },
    {
      "cell_type": "code",
      "metadata": {
        "id": "yHvjrZBDcdi5",
        "colab_type": "code",
        "colab": {
          "base_uri": "https://localhost:8080/",
          "height": 221
        },
        "outputId": "45a85ebf-dd2f-406a-bdcb-84c69144466e"
      },
      "source": [
        "print(\"You used to like {} then we recommend you:\".format(book_data.loc[book_data[\"ISBN\"] == matrix_df_pivot.index[indices[select_index][0]], \"Title\"].values[0]))\n",
        "print()\n",
        "for i in range(1, 11):\n",
        "  print(\"{} with distance {}\".format(book_data.loc[book_data['ISBN'] == matrix_df_pivot.index[indices[select_index][i]], 'Title'].values[0], distance[select_index][i]))"
      ],
      "execution_count": 198,
      "outputs": [
        {
          "output_type": "stream",
          "text": [
            "You used to like The Kitchen God's Wife then we recommend you:\n",
            "\n",
            "Gai-Jin: A Novel of Japan with distance 0.7773521222729239\n",
            "The Greatest Generation Speaks : Letters and Reflections with distance 0.7927500619424043\n",
            "INCA GOLD with distance 0.8091558577296116\n",
            "The Inheritor with distance 0.8143441756734172\n",
            "Yuletide Brides (2 Novels in 1) with distance 0.8279239497453084\n",
            "The Bellmaker (Redwall, Book 7) with distance 0.8287077908935335\n",
            "The Observatory : A Novel with distance 0.8319151143745407\n",
            "How to Make an American Quilt with distance 0.8345857405068295\n",
            "Joy Luck Club with distance 0.834768484998744\n",
            "The Unlikely Spy with distance 0.8359819519594547\n"
          ],
          "name": "stdout"
        }
      ]
    },
    {
      "cell_type": "markdown",
      "metadata": {
        "id": "W7Kj9VzReFgZ",
        "colab_type": "text"
      },
      "source": [
        "## Recommend User Favourite Book - Collaborative Filtering"
      ]
    },
    {
      "cell_type": "code",
      "metadata": {
        "id": "sgHoxfE6ePM8",
        "colab_type": "code",
        "colab": {}
      },
      "source": [
        "harry_potter_isbns = book_data.loc[book_data[\"Title\"].str.contains(\"Harry Potter\") & book_data[\"Author\"].str.contains(\"Rowling\"), \"ISBN\"].values\n",
        "harry_potter_ratings = rating_data.loc[rating_data[\"ISBN\"].isin(harry_potter_isbns)]"
      ],
      "execution_count": 199,
      "outputs": []
    },
    {
      "cell_type": "code",
      "metadata": {
        "id": "RKXq97_tg1vn",
        "colab_type": "code",
        "colab": {}
      },
      "source": [
        "user_groupby = harry_potter_ratings.groupby(\"User-ID\")\n",
        "average_user_rating = user_groupby[\"Rating\"].mean()\n",
        "number_of_ratings_by_user = user_groupby[\"Rating\"].count()"
      ],
      "execution_count": 200,
      "outputs": []
    },
    {
      "cell_type": "code",
      "metadata": {
        "id": "XkIfyMhGg541",
        "colab_type": "code",
        "colab": {}
      },
      "source": [
        "average_user_rating.name = \"HP_avg_ratings\"\n",
        "number_of_ratings_by_user.name = \"HP_N_ratings\""
      ],
      "execution_count": 215,
      "outputs": []
    },
    {
      "cell_type": "code",
      "metadata": {
        "id": "EloTHpxZoK9J",
        "colab_type": "code",
        "colab": {}
      },
      "source": [
        "users = user_data.join(number_of_ratings_by_user, on=\"User-ID\")\n",
        "users = user_data.join(average_user_rating, on=\"User-ID\")"
      ],
      "execution_count": 208,
      "outputs": []
    },
    {
      "cell_type": "code",
      "metadata": {
        "id": "utx4W9zjhDKF",
        "colab_type": "code",
        "colab": {}
      },
      "source": [
        "users[\"Count_Rating\"] = users[\"Count_Rating\"].fillna(0)\n",
        "users[\"Count_Rating\"] = users[\"Count_Rating\"].astype(\"int64\")"
      ],
      "execution_count": 209,
      "outputs": []
    },
    {
      "cell_type": "code",
      "metadata": {
        "id": "2GEUZYRcoBl4",
        "colab_type": "code",
        "colab": {
          "base_uri": "https://localhost:8080/",
          "height": 1000
        },
        "outputId": "20ac64e4-c1c4-40d9-9567-e253a94bf13d"
      },
      "source": [
        "users.loc[users[\"HP_avg_rating\"] == 7]"
      ],
      "execution_count": 226,
      "outputs": [
        {
          "output_type": "execute_result",
          "data": {
            "text/html": [
              "<div>\n",
              "<style scoped>\n",
              "    .dataframe tbody tr th:only-of-type {\n",
              "        vertical-align: middle;\n",
              "    }\n",
              "\n",
              "    .dataframe tbody tr th {\n",
              "        vertical-align: top;\n",
              "    }\n",
              "\n",
              "    .dataframe thead th {\n",
              "        text-align: right;\n",
              "    }\n",
              "</style>\n",
              "<table border=\"1\" class=\"dataframe\">\n",
              "  <thead>\n",
              "    <tr style=\"text-align: right;\">\n",
              "      <th></th>\n",
              "      <th>User-ID</th>\n",
              "      <th>Age</th>\n",
              "      <th>Count_Rating</th>\n",
              "      <th>Average_Rating</th>\n",
              "      <th>HP_avg_rating</th>\n",
              "    </tr>\n",
              "  </thead>\n",
              "  <tbody>\n",
              "    <tr>\n",
              "      <th>1708</th>\n",
              "      <td>4802</td>\n",
              "      <td>28</td>\n",
              "      <td>17</td>\n",
              "      <td>2.470588</td>\n",
              "      <td>7.0</td>\n",
              "    </tr>\n",
              "    <tr>\n",
              "      <th>2585</th>\n",
              "      <td>7072</td>\n",
              "      <td>11</td>\n",
              "      <td>8</td>\n",
              "      <td>6.500000</td>\n",
              "      <td>7.0</td>\n",
              "    </tr>\n",
              "    <tr>\n",
              "      <th>4338</th>\n",
              "      <td>12112</td>\n",
              "      <td>40</td>\n",
              "      <td>26</td>\n",
              "      <td>2.423077</td>\n",
              "      <td>7.0</td>\n",
              "    </tr>\n",
              "    <tr>\n",
              "      <th>5373</th>\n",
              "      <td>14958</td>\n",
              "      <td>39</td>\n",
              "      <td>100</td>\n",
              "      <td>6.890000</td>\n",
              "      <td>7.0</td>\n",
              "    </tr>\n",
              "    <tr>\n",
              "      <th>6427</th>\n",
              "      <td>17667</td>\n",
              "      <td>33</td>\n",
              "      <td>85</td>\n",
              "      <td>4.329412</td>\n",
              "      <td>7.0</td>\n",
              "    </tr>\n",
              "    <tr>\n",
              "      <th>7487</th>\n",
              "      <td>20501</td>\n",
              "      <td>30</td>\n",
              "      <td>10</td>\n",
              "      <td>6.200000</td>\n",
              "      <td>7.0</td>\n",
              "    </tr>\n",
              "    <tr>\n",
              "      <th>8342</th>\n",
              "      <td>22688</td>\n",
              "      <td>0</td>\n",
              "      <td>1</td>\n",
              "      <td>7.000000</td>\n",
              "      <td>7.0</td>\n",
              "    </tr>\n",
              "    <tr>\n",
              "      <th>9572</th>\n",
              "      <td>25919</td>\n",
              "      <td>0</td>\n",
              "      <td>42</td>\n",
              "      <td>5.476190</td>\n",
              "      <td>7.0</td>\n",
              "    </tr>\n",
              "    <tr>\n",
              "      <th>10983</th>\n",
              "      <td>29482</td>\n",
              "      <td>29</td>\n",
              "      <td>1</td>\n",
              "      <td>7.000000</td>\n",
              "      <td>7.0</td>\n",
              "    </tr>\n",
              "    <tr>\n",
              "      <th>11234</th>\n",
              "      <td>30153</td>\n",
              "      <td>13</td>\n",
              "      <td>1</td>\n",
              "      <td>7.000000</td>\n",
              "      <td>7.0</td>\n",
              "    </tr>\n",
              "    <tr>\n",
              "      <th>12823</th>\n",
              "      <td>33897</td>\n",
              "      <td>0</td>\n",
              "      <td>2</td>\n",
              "      <td>8.000000</td>\n",
              "      <td>7.0</td>\n",
              "    </tr>\n",
              "    <tr>\n",
              "      <th>13259</th>\n",
              "      <td>35081</td>\n",
              "      <td>16</td>\n",
              "      <td>11</td>\n",
              "      <td>6.818182</td>\n",
              "      <td>7.0</td>\n",
              "    </tr>\n",
              "    <tr>\n",
              "      <th>15080</th>\n",
              "      <td>39665</td>\n",
              "      <td>24</td>\n",
              "      <td>2</td>\n",
              "      <td>3.500000</td>\n",
              "      <td>7.0</td>\n",
              "    </tr>\n",
              "    <tr>\n",
              "      <th>15331</th>\n",
              "      <td>40415</td>\n",
              "      <td>34</td>\n",
              "      <td>106</td>\n",
              "      <td>2.603774</td>\n",
              "      <td>7.0</td>\n",
              "    </tr>\n",
              "    <tr>\n",
              "      <th>16471</th>\n",
              "      <td>43423</td>\n",
              "      <td>0</td>\n",
              "      <td>4</td>\n",
              "      <td>8.250000</td>\n",
              "      <td>7.0</td>\n",
              "    </tr>\n",
              "    <tr>\n",
              "      <th>19390</th>\n",
              "      <td>51376</td>\n",
              "      <td>48</td>\n",
              "      <td>1</td>\n",
              "      <td>7.000000</td>\n",
              "      <td>7.0</td>\n",
              "    </tr>\n",
              "    <tr>\n",
              "      <th>19734</th>\n",
              "      <td>52242</td>\n",
              "      <td>64</td>\n",
              "      <td>3</td>\n",
              "      <td>5.000000</td>\n",
              "      <td>7.0</td>\n",
              "    </tr>\n",
              "    <tr>\n",
              "      <th>23067</th>\n",
              "      <td>60707</td>\n",
              "      <td>38</td>\n",
              "      <td>55</td>\n",
              "      <td>4.832797</td>\n",
              "      <td>7.0</td>\n",
              "    </tr>\n",
              "    <tr>\n",
              "      <th>26266</th>\n",
              "      <td>69211</td>\n",
              "      <td>0</td>\n",
              "      <td>107</td>\n",
              "      <td>5.953271</td>\n",
              "      <td>7.0</td>\n",
              "    </tr>\n",
              "    <tr>\n",
              "      <th>27085</th>\n",
              "      <td>71521</td>\n",
              "      <td>35</td>\n",
              "      <td>10</td>\n",
              "      <td>7.200000</td>\n",
              "      <td>7.0</td>\n",
              "    </tr>\n",
              "    <tr>\n",
              "      <th>32700</th>\n",
              "      <td>86277</td>\n",
              "      <td>0</td>\n",
              "      <td>1</td>\n",
              "      <td>7.000000</td>\n",
              "      <td>7.0</td>\n",
              "    </tr>\n",
              "    <tr>\n",
              "      <th>34155</th>\n",
              "      <td>90174</td>\n",
              "      <td>30</td>\n",
              "      <td>18</td>\n",
              "      <td>7.555556</td>\n",
              "      <td>7.0</td>\n",
              "    </tr>\n",
              "    <tr>\n",
              "      <th>35160</th>\n",
              "      <td>92810</td>\n",
              "      <td>60</td>\n",
              "      <td>-15</td>\n",
              "      <td>4.078838</td>\n",
              "      <td>7.0</td>\n",
              "    </tr>\n",
              "    <tr>\n",
              "      <th>35238</th>\n",
              "      <td>93025</td>\n",
              "      <td>40</td>\n",
              "      <td>6</td>\n",
              "      <td>1.166667</td>\n",
              "      <td>7.0</td>\n",
              "    </tr>\n",
              "    <tr>\n",
              "      <th>37077</th>\n",
              "      <td>97679</td>\n",
              "      <td>0</td>\n",
              "      <td>5</td>\n",
              "      <td>5.000000</td>\n",
              "      <td>7.0</td>\n",
              "    </tr>\n",
              "    <tr>\n",
              "      <th>38902</th>\n",
              "      <td>102505</td>\n",
              "      <td>37</td>\n",
              "      <td>47</td>\n",
              "      <td>1.744681</td>\n",
              "      <td>7.0</td>\n",
              "    </tr>\n",
              "    <tr>\n",
              "      <th>51656</th>\n",
              "      <td>136491</td>\n",
              "      <td>18</td>\n",
              "      <td>90</td>\n",
              "      <td>5.766667</td>\n",
              "      <td>7.0</td>\n",
              "    </tr>\n",
              "    <tr>\n",
              "      <th>55070</th>\n",
              "      <td>145449</td>\n",
              "      <td>0</td>\n",
              "      <td>-42</td>\n",
              "      <td>2.327660</td>\n",
              "      <td>7.0</td>\n",
              "    </tr>\n",
              "    <tr>\n",
              "      <th>60281</th>\n",
              "      <td>159834</td>\n",
              "      <td>19</td>\n",
              "      <td>104</td>\n",
              "      <td>3.865385</td>\n",
              "      <td>7.0</td>\n",
              "    </tr>\n",
              "    <tr>\n",
              "      <th>60830</th>\n",
              "      <td>161373</td>\n",
              "      <td>0</td>\n",
              "      <td>17</td>\n",
              "      <td>5.411765</td>\n",
              "      <td>7.0</td>\n",
              "    </tr>\n",
              "    <tr>\n",
              "      <th>62400</th>\n",
              "      <td>165558</td>\n",
              "      <td>18</td>\n",
              "      <td>34</td>\n",
              "      <td>4.264706</td>\n",
              "      <td>7.0</td>\n",
              "    </tr>\n",
              "    <tr>\n",
              "      <th>64889</th>\n",
              "      <td>172119</td>\n",
              "      <td>28</td>\n",
              "      <td>21</td>\n",
              "      <td>5.047619</td>\n",
              "      <td>7.0</td>\n",
              "    </tr>\n",
              "    <tr>\n",
              "      <th>66934</th>\n",
              "      <td>177374</td>\n",
              "      <td>0</td>\n",
              "      <td>-24</td>\n",
              "      <td>2.413793</td>\n",
              "      <td>7.0</td>\n",
              "    </tr>\n",
              "    <tr>\n",
              "      <th>71977</th>\n",
              "      <td>191165</td>\n",
              "      <td>36</td>\n",
              "      <td>25</td>\n",
              "      <td>5.080000</td>\n",
              "      <td>7.0</td>\n",
              "    </tr>\n",
              "    <tr>\n",
              "      <th>73853</th>\n",
              "      <td>196160</td>\n",
              "      <td>22</td>\n",
              "      <td>-59</td>\n",
              "      <td>2.858720</td>\n",
              "      <td>7.0</td>\n",
              "    </tr>\n",
              "    <tr>\n",
              "      <th>76465</th>\n",
              "      <td>203313</td>\n",
              "      <td>0</td>\n",
              "      <td>1</td>\n",
              "      <td>7.000000</td>\n",
              "      <td>7.0</td>\n",
              "    </tr>\n",
              "    <tr>\n",
              "      <th>84184</th>\n",
              "      <td>223501</td>\n",
              "      <td>0</td>\n",
              "      <td>-122</td>\n",
              "      <td>6.880597</td>\n",
              "      <td>7.0</td>\n",
              "    </tr>\n",
              "    <tr>\n",
              "      <th>84665</th>\n",
              "      <td>224635</td>\n",
              "      <td>21</td>\n",
              "      <td>15</td>\n",
              "      <td>7.133333</td>\n",
              "      <td>7.0</td>\n",
              "    </tr>\n",
              "    <tr>\n",
              "      <th>86752</th>\n",
              "      <td>230374</td>\n",
              "      <td>30</td>\n",
              "      <td>82</td>\n",
              "      <td>4.097561</td>\n",
              "      <td>7.0</td>\n",
              "    </tr>\n",
              "    <tr>\n",
              "      <th>87315</th>\n",
              "      <td>231848</td>\n",
              "      <td>59</td>\n",
              "      <td>8</td>\n",
              "      <td>3.500000</td>\n",
              "      <td>7.0</td>\n",
              "    </tr>\n",
              "    <tr>\n",
              "      <th>90546</th>\n",
              "      <td>240121</td>\n",
              "      <td>0</td>\n",
              "      <td>1</td>\n",
              "      <td>7.000000</td>\n",
              "      <td>7.0</td>\n",
              "    </tr>\n",
              "    <tr>\n",
              "      <th>91712</th>\n",
              "      <td>243058</td>\n",
              "      <td>0</td>\n",
              "      <td>29</td>\n",
              "      <td>8.206897</td>\n",
              "      <td>7.0</td>\n",
              "    </tr>\n",
              "    <tr>\n",
              "      <th>92501</th>\n",
              "      <td>245128</td>\n",
              "      <td>23</td>\n",
              "      <td>38</td>\n",
              "      <td>5.526316</td>\n",
              "      <td>7.0</td>\n",
              "    </tr>\n",
              "    <tr>\n",
              "      <th>92663</th>\n",
              "      <td>245572</td>\n",
              "      <td>28</td>\n",
              "      <td>4</td>\n",
              "      <td>3.000000</td>\n",
              "      <td>7.0</td>\n",
              "    </tr>\n",
              "    <tr>\n",
              "      <th>92694</th>\n",
              "      <td>245655</td>\n",
              "      <td>36</td>\n",
              "      <td>23</td>\n",
              "      <td>4.217391</td>\n",
              "      <td>7.0</td>\n",
              "    </tr>\n",
              "    <tr>\n",
              "      <th>92903</th>\n",
              "      <td>246247</td>\n",
              "      <td>29</td>\n",
              "      <td>-112</td>\n",
              "      <td>3.104167</td>\n",
              "      <td>7.0</td>\n",
              "    </tr>\n",
              "    <tr>\n",
              "      <th>94480</th>\n",
              "      <td>250367</td>\n",
              "      <td>0</td>\n",
              "      <td>40</td>\n",
              "      <td>2.150000</td>\n",
              "      <td>7.0</td>\n",
              "    </tr>\n",
              "    <tr>\n",
              "      <th>95995</th>\n",
              "      <td>254022</td>\n",
              "      <td>20</td>\n",
              "      <td>8</td>\n",
              "      <td>7.000000</td>\n",
              "      <td>7.0</td>\n",
              "    </tr>\n",
              "    <tr>\n",
              "      <th>96584</th>\n",
              "      <td>255607</td>\n",
              "      <td>0</td>\n",
              "      <td>5</td>\n",
              "      <td>4.400000</td>\n",
              "      <td>7.0</td>\n",
              "    </tr>\n",
              "    <tr>\n",
              "      <th>98169</th>\n",
              "      <td>259660</td>\n",
              "      <td>21</td>\n",
              "      <td>87</td>\n",
              "      <td>4.022989</td>\n",
              "      <td>7.0</td>\n",
              "    </tr>\n",
              "    <tr>\n",
              "      <th>98245</th>\n",
              "      <td>259877</td>\n",
              "      <td>0</td>\n",
              "      <td>1</td>\n",
              "      <td>7.000000</td>\n",
              "      <td>7.0</td>\n",
              "    </tr>\n",
              "    <tr>\n",
              "      <th>98669</th>\n",
              "      <td>261077</td>\n",
              "      <td>0</td>\n",
              "      <td>1</td>\n",
              "      <td>7.000000</td>\n",
              "      <td>7.0</td>\n",
              "    </tr>\n",
              "  </tbody>\n",
              "</table>\n",
              "</div>"
            ],
            "text/plain": [
              "      User-ID Age  Count_Rating  Average_Rating  HP_avg_rating\n",
              "1708     4802  28            17        2.470588            7.0\n",
              "2585     7072  11             8        6.500000            7.0\n",
              "4338    12112  40            26        2.423077            7.0\n",
              "5373    14958  39           100        6.890000            7.0\n",
              "6427    17667  33            85        4.329412            7.0\n",
              "7487    20501  30            10        6.200000            7.0\n",
              "8342    22688   0             1        7.000000            7.0\n",
              "9572    25919   0            42        5.476190            7.0\n",
              "10983   29482  29             1        7.000000            7.0\n",
              "11234   30153  13             1        7.000000            7.0\n",
              "12823   33897   0             2        8.000000            7.0\n",
              "13259   35081  16            11        6.818182            7.0\n",
              "15080   39665  24             2        3.500000            7.0\n",
              "15331   40415  34           106        2.603774            7.0\n",
              "16471   43423   0             4        8.250000            7.0\n",
              "19390   51376  48             1        7.000000            7.0\n",
              "19734   52242  64             3        5.000000            7.0\n",
              "23067   60707  38            55        4.832797            7.0\n",
              "26266   69211   0           107        5.953271            7.0\n",
              "27085   71521  35            10        7.200000            7.0\n",
              "32700   86277   0             1        7.000000            7.0\n",
              "34155   90174  30            18        7.555556            7.0\n",
              "35160   92810  60           -15        4.078838            7.0\n",
              "35238   93025  40             6        1.166667            7.0\n",
              "37077   97679   0             5        5.000000            7.0\n",
              "38902  102505  37            47        1.744681            7.0\n",
              "51656  136491  18            90        5.766667            7.0\n",
              "55070  145449   0           -42        2.327660            7.0\n",
              "60281  159834  19           104        3.865385            7.0\n",
              "60830  161373   0            17        5.411765            7.0\n",
              "62400  165558  18            34        4.264706            7.0\n",
              "64889  172119  28            21        5.047619            7.0\n",
              "66934  177374   0           -24        2.413793            7.0\n",
              "71977  191165  36            25        5.080000            7.0\n",
              "73853  196160  22           -59        2.858720            7.0\n",
              "76465  203313   0             1        7.000000            7.0\n",
              "84184  223501   0          -122        6.880597            7.0\n",
              "84665  224635  21            15        7.133333            7.0\n",
              "86752  230374  30            82        4.097561            7.0\n",
              "87315  231848  59             8        3.500000            7.0\n",
              "90546  240121   0             1        7.000000            7.0\n",
              "91712  243058   0            29        8.206897            7.0\n",
              "92501  245128  23            38        5.526316            7.0\n",
              "92663  245572  28             4        3.000000            7.0\n",
              "92694  245655  36            23        4.217391            7.0\n",
              "92903  246247  29          -112        3.104167            7.0\n",
              "94480  250367   0            40        2.150000            7.0\n",
              "95995  254022  20             8        7.000000            7.0\n",
              "96584  255607   0             5        4.400000            7.0\n",
              "98169  259660  21            87        4.022989            7.0\n",
              "98245  259877   0             1        7.000000            7.0\n",
              "98669  261077   0             1        7.000000            7.0"
            ]
          },
          "metadata": {
            "tags": []
          },
          "execution_count": 226
        }
      ]
    },
    {
      "cell_type": "code",
      "metadata": {
        "id": "TcQGjwe5hTr0",
        "colab_type": "code",
        "colab": {
          "base_uri": "https://localhost:8080/",
          "height": 68
        },
        "outputId": "7afb4676-b406-4324-ba6c-929a7b173a05"
      },
      "source": [
        "knn = NearestNeighbors(metric=\"cosine\", n_neighbors=20, n_jobs=-1)\n",
        "knn.fit(matrix_csr.T)"
      ],
      "execution_count": 217,
      "outputs": [
        {
          "output_type": "execute_result",
          "data": {
            "text/plain": [
              "NearestNeighbors(algorithm='auto', leaf_size=30, metric='cosine',\n",
              "                 metric_params=None, n_jobs=-1, n_neighbors=20, p=2,\n",
              "                 radius=1.0)"
            ]
          },
          "metadata": {
            "tags": []
          },
          "execution_count": 217
        }
      ]
    },
    {
      "cell_type": "code",
      "metadata": {
        "id": "CmUGSx3OhvI5",
        "colab_type": "code",
        "colab": {}
      },
      "source": [
        "distance_knn, indices_knn = knn.kneighbors(matrix_csr.T)"
      ],
      "execution_count": 218,
      "outputs": []
    },
    {
      "cell_type": "code",
      "metadata": {
        "id": "iL7WVHw_pUJl",
        "colab_type": "code",
        "colab": {
          "base_uri": "https://localhost:8080/",
          "height": 34
        },
        "outputId": "07dce20b-3ed8-491a-af54-93121d937ea1"
      },
      "source": [
        "matrix_df_pivot.columns.get_loc(175003)"
      ],
      "execution_count": 221,
      "outputs": [
        {
          "output_type": "execute_result",
          "data": {
            "text/plain": [
              "28785"
            ]
          },
          "metadata": {
            "tags": []
          },
          "execution_count": 221
        }
      ]
    },
    {
      "cell_type": "code",
      "metadata": {
        "id": "tlqXDrpKpxab",
        "colab_type": "code",
        "colab": {
          "base_uri": "https://localhost:8080/",
          "height": 68
        },
        "outputId": "37a06b27-3f16-48a3-b28e-9c6c3c53b38f"
      },
      "source": [
        "indices_knn[28785]"
      ],
      "execution_count": 222,
      "outputs": [
        {
          "output_type": "execute_result",
          "data": {
            "text/plain": [
              "array([28785, 17007, 41708, 19175,  1082,  6058, 45787,  3394, 32093,\n",
              "       14660,  4883,  5223, 13850, 31294, 14170, 19055,  8585, 39092,\n",
              "       23788, 39521])"
            ]
          },
          "metadata": {
            "tags": []
          },
          "execution_count": 222
        }
      ]
    },
    {
      "cell_type": "code",
      "metadata": {
        "id": "LSoOfICDp2fL",
        "colab_type": "code",
        "colab": {
          "base_uri": "https://localhost:8080/",
          "height": 34
        },
        "outputId": "9dcdb796-5b2d-428b-a786-8eb35ae390ca"
      },
      "source": [
        "matrix_df_pivot.columns[17007]"
      ],
      "execution_count": 223,
      "outputs": [
        {
          "output_type": "execute_result",
          "data": {
            "text/plain": [
              "103541"
            ]
          },
          "metadata": {
            "tags": []
          },
          "execution_count": 223
        }
      ]
    },
    {
      "cell_type": "code",
      "metadata": {
        "id": "x3euRQ_Ep7x7",
        "colab_type": "code",
        "colab": {
          "base_uri": "https://localhost:8080/",
          "height": 80
        },
        "outputId": "71e3df30-92a3-4ee4-8796-7fa16b2202a4"
      },
      "source": [
        "users.loc[users[\"User-ID\"] == 103541]"
      ],
      "execution_count": 224,
      "outputs": [
        {
          "output_type": "execute_result",
          "data": {
            "text/html": [
              "<div>\n",
              "<style scoped>\n",
              "    .dataframe tbody tr th:only-of-type {\n",
              "        vertical-align: middle;\n",
              "    }\n",
              "\n",
              "    .dataframe tbody tr th {\n",
              "        vertical-align: top;\n",
              "    }\n",
              "\n",
              "    .dataframe thead th {\n",
              "        text-align: right;\n",
              "    }\n",
              "</style>\n",
              "<table border=\"1\" class=\"dataframe\">\n",
              "  <thead>\n",
              "    <tr style=\"text-align: right;\">\n",
              "      <th></th>\n",
              "      <th>User-ID</th>\n",
              "      <th>Age</th>\n",
              "      <th>Count_Rating</th>\n",
              "      <th>Average_Rating</th>\n",
              "      <th>HP_avg_rating</th>\n",
              "    </tr>\n",
              "  </thead>\n",
              "  <tbody>\n",
              "    <tr>\n",
              "      <th>39275</th>\n",
              "      <td>103541</td>\n",
              "      <td>24</td>\n",
              "      <td>111</td>\n",
              "      <td>6.738739</td>\n",
              "      <td>8.5</td>\n",
              "    </tr>\n",
              "  </tbody>\n",
              "</table>\n",
              "</div>"
            ],
            "text/plain": [
              "      User-ID Age  Count_Rating  Average_Rating  HP_avg_rating\n",
              "39275  103541  24           111        6.738739            8.5"
            ]
          },
          "metadata": {
            "tags": []
          },
          "execution_count": 224
        }
      ]
    },
    {
      "cell_type": "code",
      "metadata": {
        "id": "tS_WF_GeqIbl",
        "colab_type": "code",
        "colab": {}
      },
      "source": [
        "def recommend_favourite_book_of_similar_user(userID, indices, ratings_matrix, users_table, books_table, ratings_table, N_recommendations=1, distances=None):\n",
        "    selected_index = ratings_matrix.columns.get_loc(userID)\n",
        "    already_read_book_isbns = list(ratings_table.loc[ratings_table[\"User-ID\"] == userID, \"ISBN\"].values)\n",
        "    not_read_books = ratings_table.loc[~ratings_table[\"ISBN\"].isin(already_read_book_isbns)]\n",
        "    books_to_recommend = list()\n",
        "    for i in range(1,10):\n",
        "        similar_user_index = indices[selected_index][i]\n",
        "        similar_user_ID = ratings_matrix.columns[similar_user_index]\n",
        "        possible_to_recommend = not_read_books.loc[not_read_books[\"User-ID\"] == similar_user_ID]\n",
        "        possible_to_recommend = possible_to_recommend.sort_values(by=\"Rating\", ascending=False)\n",
        "        for a, row in possible_to_recommend.iterrows():\n",
        "            books_to_recommend.append(books_table.loc[book_data[\"ISBN\"] == row[\"ISBN\"], \"Title\"].values[0])\n",
        "            if len(books_to_recommend) > N_recommendations-1:\n",
        "                break\n",
        "        if len(books_to_recommend) > N_recommendations-1:\n",
        "            break\n",
        "    print(f\"Based on users who like similar books as you, you may like:\")\n",
        "    print()\n",
        "    for book_name in books_to_recommend:\n",
        "        print(book_name)"
      ],
      "execution_count": 230,
      "outputs": []
    },
    {
      "cell_type": "code",
      "metadata": {
        "id": "KWBL2Q6-qK3V",
        "colab_type": "code",
        "colab": {
          "base_uri": "https://localhost:8080/",
          "height": 102
        },
        "outputId": "a05263e8-85f6-4ab8-835a-edccba6f8152"
      },
      "source": [
        "recommend_favourite_book_of_similar_user(12112, indices_knn, matrix_df_pivot, users, book_data, rating_data, N_recommendations=3, distances=distance_knn)"
      ],
      "execution_count": 231,
      "outputs": [
        {
          "output_type": "stream",
          "text": [
            "Based on users who like similar books as you, you may like:\n",
            "\n",
            "The Runaway Jury\n",
            "Lies My Teacher Told Me : Everything Your American History Textbook Got Wrong\n",
            "Zorba the Greek\n"
          ],
          "name": "stdout"
        }
      ]
    }
  ]
}